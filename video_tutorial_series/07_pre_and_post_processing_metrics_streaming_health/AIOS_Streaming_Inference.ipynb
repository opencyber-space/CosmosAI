{
 "cells": [
  {
   "cell_type": "markdown",
   "id": "62376eef",
   "metadata": {},
   "source": [
    "# AIOS Streaming Inference\n",
    "\n",
    "This notebook is used to send an inference request to a streaming-enabled AIOS block. It should be run after you have started the WebSocket listener in the `AIOS_Streaming_Tutorial.ipynb` notebook."
   ]
  },
  {
   "cell_type": "code",
   "execution_count": 9,
   "id": "0d740409",
   "metadata": {},
   "outputs": [
    {
     "name": "stdout",
     "output_type": "stream",
     "text": [
      "Using Block ID: llama4-scout-17b-block\n",
      "Using Session ID: session-730377a0-a94c-48f6-92a2-51b0f9418e51\n"
     ]
    }
   ],
   "source": [
    "import requests\n",
    "import json\n",
    "import time\n",
    "\n",
    "# Configuration - Ensure these match the session in the other notebook\n",
    "INFERENCE_API = \"http://CLUSTER1MASTER:31504/v1/infer\"\n",
    "BLOCK_ID = \"magistral-small-2506-llama-cpp-block\"  # Should match the block in the other notebook\n",
    "BLOCK_ID = \"llama4-scout-17b-block\"\n",
    "# IMPORTANT: You must get the SESSION_ID from the output of the other notebook\n",
    "# and paste it here.\n",
    "SESSION_ID = \"session-730377a0-a94c-48f6-92a2-51b0f9418e51\" \n",
    "\n",
    "print(f\"Using Block ID: {BLOCK_ID}\")\n",
    "print(f\"Using Session ID: {SESSION_ID}\")"
   ]
  },
  {
   "cell_type": "markdown",
   "id": "4ad2f661",
   "metadata": {},
   "source": [
    "### **Action Required**\n",
    "\n",
    "1.  Run the `AIOS_Streaming_Tutorial.ipynb` notebook up to and including **Step 3**.\n",
    "2.  Copy the `Generated Session ID` from the output of the configuration cell in that notebook.\n",
    "3.  Paste the copied Session ID into the `SESSION_ID` variable in the cell above, replacing `\"paste_session_id_here\"`.\n",
    "4.  Run the cell above to set the configuration."
   ]
  },
  {
   "cell_type": "markdown",
   "id": "0e4f1c55",
   "metadata": {},
   "source": [
    "# Send Inference Request\n",
    "\n",
    "This step sends the inference request to the model. The streaming response will appear in the output of the `AIOS_Streaming_Tutorial.ipynb` notebook.\n",
    "\n",
    "## Inference Parameters:\n",
    "- **model**: The block ID of the target model\n",
    "- **session_id**: The session ID from the other notebook\n",
    "- **seq_no**: Sequence number for request ordering\n",
    "- **data**: Contains the actual request data including message and system prompt"
   ]
  },
  {
   "cell_type": "code",
   "execution_count": 11,
   "id": "f451c34d",
   "metadata": {},
   "outputs": [
    {
     "name": "stdout",
     "output_type": "stream",
     "text": [
      "🚀 Sending inference request...\n",
      "📝 Message: Explain the concept of machine learning in simple terms.\n",
      "✅ Inference request sent successfully!\n",
      "📄 Response: {\n",
      "  \"data\": {\n",
      "    \"reply\": \"**Machine Learning: A Simple Explanation**\\n=====================================\\n\\nMachine learning is a type of artificial intelligence that enables computers to learn and improve their performance on a task without being explicitly programmed.\\n\\n**Key Idea:**\\n------------\\n\\nThe core idea of machine learning is to allow computers to:\\n\\n1. **Learn from data**: Machines are trained on large datasets, which contain examples of the task they need to perform.\\n2. **Identify patterns**: The machine analyzes the data to identify patterns, relationships, and trends.\\n3. **Make predictions or decisions**: Based on the patterns learned, the machine makes predictions or decisions on new, unseen data.\\n\\n**How it Works:**\\n----------------\\n\\nHere's a step-by-step overview:\\n\\n1. **Data collection**: Gather a large dataset relevant to the task.\\n2. **Data preparation**: Clean, preprocess, and transform the data into a suitable format.\\n3. **Model training**: Use a machine learning algorithm to train a model on the prepared data.\\n4. **Model evaluation**: Test the trained model on a separate dataset to evaluate its performance.\\n5. **Model deployment**: Deploy the trained model to make predictions or decisions on new data.\\n\\n**Types of Machine Learning:**\\n-----------------------------\\n\\nThere are three main types:\\n\\n1. **Supervised learning**: The machine learns from labeled data, where the correct output is already known.\\n2. **Unsupervised learning**: The machine learns from unlabeled data, and finds patterns or structure on its own.\\n3. **Reinforcement learning**: The machine learns through trial and error, receiving rewards or penalties for its actions.\\n\\n**Real-World Applications:**\\n---------------------------\\n\\nMachine learning has many practical applications, such as:\\n\\n* Image and speech recognition\\n* Natural language processing\\n* Predictive maintenance\\n* Recommendation systems\\n* Self-driving cars\\n\\nIn summary, machine learning is a powerful technology that enables computers to learn from data and improve their performance on a task, without being explicitly programmed.\"\n",
      "  },\n",
      "  \"model\": \"llama4-scout-17b-block\",\n",
      "  \"seq_no\": 1754477573,\n",
      "  \"session_id\": \"session-730377a0-a94c-48f6-92a2-51b0f9418e51\",\n",
      "  \"ts\": 1754477573.651296\n",
      "}\n"
     ]
    }
   ],
   "source": [
    "def send_inference_request(session_id, message, system_message=\"You are a helpful assistant.\"):\n",
    "    \"\"\"\n",
    "    Send an inference request to trigger streaming response.\n",
    "    \n",
    "    Args:\n",
    "        session_id (str): Session identifier\n",
    "        message (str): User message/prompt\n",
    "        system_message (str): System prompt for the model\n",
    "        \n",
    "    Returns:\n",
    "        dict: Response from inference API\n",
    "    \"\"\"\n",
    "    if session_id == \"paste_session_id_here\":\n",
    "        print(\"❌ ERROR: Please update the SESSION_ID in the cell above.\")\n",
    "        return None\n",
    "\n",
    "    payload = {\n",
    "        \"model\": BLOCK_ID,\n",
    "        \"session_id\": session_id,\n",
    "        \"seq_no\": int(time.time()),  # Use timestamp as sequence number\n",
    "        \"data\": {\n",
    "            \"system_message\": system_message,\n",
    "            \"mode\": \"chat\",\n",
    "            \"message\": message,\n",
    "            \"ts\": time.time()\n",
    "        },\n",
    "        \"graph\": {},\n",
    "        \"selection_query\": {}\n",
    "            \n",
    "    }\n",
    "    \n",
    "    try:\n",
    "        print(f\"🚀 Sending inference request...\")\n",
    "        print(f\"📝 Message: {message}\")\n",
    "        \n",
    "        response = requests.post(\n",
    "            INFERENCE_API,\n",
    "            headers={\"Content-Type\": \"application/json\"},\n",
    "            json=payload,\n",
    "            timeout=200\n",
    "        )\n",
    "        \n",
    "        response.raise_for_status()\n",
    "        result = response.json()\n",
    "        \n",
    "        print(f\"✅ Inference request sent successfully!\")\n",
    "        print(f\"📄 Response: {json.dumps(result, indent=2)}\")\n",
    "        return result\n",
    "        \n",
    "    except requests.exceptions.RequestException as e:\n",
    "        print(f\"❌ Error sending inference request: {e}\")\n",
    "        if hasattr(e.response, 'text'):\n",
    "            print(f\"📄 Error details: {e.response.text}\")\n",
    "        return None\n",
    "\n",
    "# Example inference request\n",
    "test_message = \"Explain the concept of machine learning in simple terms.\"\n",
    "inference_result = send_inference_request(SESSION_ID, test_message)"
   ]
  },
  {
   "cell_type": "markdown",
   "id": "b6e8aae4-1744-4e5a-abbf-c0e2b8cb3648",
   "metadata": {},
   "source": [
    "After Running the above cell, check back the AIOS_Streaming_Tutorial.ipynb's Step 3: WebSocket Connection Test (Async) for streamer logs. Here you will get the final response only."
   ]
  },
  {
   "cell_type": "code",
   "execution_count": null,
   "id": "c3dd03f3-7e87-4fe0-8e44-89492f06549d",
   "metadata": {},
   "outputs": [],
   "source": []
  }
 ],
 "metadata": {
  "kernelspec": {
   "display_name": "Python 3 (ipykernel)",
   "language": "python",
   "name": "python3"
  },
  "language_info": {
   "codemirror_mode": {
    "name": "ipython",
    "version": 3
   },
   "file_extension": ".py",
   "mimetype": "text/x-python",
   "name": "python",
   "nbconvert_exporter": "python",
   "pygments_lexer": "ipython3",
   "version": "3.12.3"
  }
 },
 "nbformat": 4,
 "nbformat_minor": 5
}
