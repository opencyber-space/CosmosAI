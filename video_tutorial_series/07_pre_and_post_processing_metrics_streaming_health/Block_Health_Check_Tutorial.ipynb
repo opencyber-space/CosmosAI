{
 "cells": [
  {
   "cell_type": "markdown",
   "id": "21cce9be",
   "metadata": {},
   "source": [
    "# AIOS Block Health Check Tutorial\n",
    "\n",
    "This notebook provides a comprehensive guide to checking the health of your AIOS blocks and creating custom health check policies.\n",
    "\n",
    "## Overview\n",
    "\n",
    "The AIOS platform includes a robust health checking system that allows you to monitor the status of your blocks and their instances in real-time. This is essential for ensuring the reliability and availability of your AI services.\n",
    "\n",
    "In this tutorial, we will cover:\n",
    "\n",
    "1.  **Basic Health Checks**: How to use the AIOS API to perform basic health checks on your blocks.\n",
    "2.  **Interpreting Health Status**: Understanding the JSON response from the health check API.\n",
    "3.  **Custom Health Check Policies**: A step-by-step guide to creating your own custom health check policies for more advanced monitoring scenarios."
   ]
  },
  {
   "cell_type": "markdown",
   "id": "db508ee0",
   "metadata": {},
   "source": [
    "## 1. Basic Health Checks\n",
    "\n",
    "You can easily check the health of any block by sending a GET request to the AIOS metrics service. The endpoint is structured as follows:\n",
    "\n",
    "`http://<metrics-service-ip>:<port>/block/health/<block-id>`\n",
    "\n",
    "Let's try this with a live example for the `gemma3-27b-block`."
   ]
  },
  {
   "cell_type": "code",
   "execution_count": 1,
   "id": "994153fd",
   "metadata": {},
   "outputs": [
    {
     "name": "stdout",
     "output_type": "stream",
     "text": [
      "{\n",
      "  \"block_id\": \"gemma3-27b-block\",\n",
      "  \"healthy\": true,\n",
      "  \"instances\": [\n",
      "    {\n",
      "      \"healthy\": true,\n",
      "      \"instanceId\": \"executor\",\n",
      "      \"reason\": \"executor instance\"\n",
      "    },\n",
      "    {\n",
      "      \"healthy\": true,\n",
      "      \"instanceId\": \"in-vkkv\",\n",
      "      \"lastMetrics\": \"12.959992408752441s ago\"\n",
      "    }\n",
      "  ],\n",
      "  \"success\": true\n",
      "}\n"
     ]
    }
   ],
   "source": [
    "import requests\n",
    "import json\n",
    "\n",
    "# Define the health check URL for your block\n",
    "health_check_url = \"http://MANAGEMENTMASTER:30201/block/health/gemma3-27b-block\"\n",
    "\n",
    "try:\n",
    "    # Send the GET request\n",
    "    response = requests.get(health_check_url)\n",
    "    response.raise_for_status()  # Raise an exception for bad status codes\n",
    "    \n",
    "    # Parse and print the JSON response\n",
    "    health_data = response.json()\n",
    "    print(json.dumps(health_data, indent=2))\n",
    "    \n",
    "except requests.exceptions.RequestException as e:\n",
    "    print(f\"Error fetching health status: {e}\")"
   ]
  },
  {
   "cell_type": "markdown",
   "id": "680c509d",
   "metadata": {},
   "source": [
    "## 2. Interpreting the Health Status\n",
    "\n",
    "The JSON response from the health check API provides a detailed breakdown of the block's health. Let's look at the key fields:\n",
    "\n",
    "-   **`block_id`**: The ID of the block being checked.\n",
    "-   **`healthy`**: A boolean value indicating the overall health of the block. This is `true` only if all instances are healthy.\n",
    "-   **`instances`**: An array of objects, each representing an instance of the block.\n",
    "    -   **`healthy`**: A boolean value indicating the health of the specific instance.\n",
    "    -   **`instanceId`**: The ID of the instance (e.g., `executor`, `in-0kcz`).\n",
    "    -   **`reason`** or **`lastMetrics`**: Provides additional context about the instance's status.\n",
    "\n",
    "This detailed breakdown is useful for quickly identifying which specific instance might be causing issues within a block."
   ]
  },
  {
   "cell_type": "markdown",
   "id": "e77d135b",
   "metadata": {},
   "source": [
    "## 3. Custom Health Check Policies\n",
    "\n",
    "For more advanced scenarios, you can create custom health check policies. This allows you to define your own logic for determining whether a block is healthy. For example, you could create a policy that checks for:\n",
    "\n",
    "-   GPU temperature\n",
    "-   Specific log messages\n",
    "-   The age of the last processed request\n",
    "-   Any other custom metric you expose\n",
    "\n",
    "### Creating a Custom Health Check Policy\n",
    "\n",
    "Here is a step-by-step guide to creating a custom health check policy, based on the [official documentation](https://github.com/OpenCyberspace/OpenOS.AI-Documentation/blob/main/block/block.md#block-health-checker).\n"
   ]
  }
 ],
 "metadata": {
  "kernelspec": {
   "display_name": "Python 3 (ipykernel)",
   "language": "python",
   "name": "python3"
  },
  "language_info": {
   "codemirror_mode": {
    "name": "ipython",
    "version": 3
   },
   "file_extension": ".py",
   "mimetype": "text/x-python",
   "name": "python",
   "nbconvert_exporter": "python",
   "pygments_lexer": "ipython3",
   "version": "3.12.3"
  }
 },
 "nbformat": 4,
 "nbformat_minor": 5
}
