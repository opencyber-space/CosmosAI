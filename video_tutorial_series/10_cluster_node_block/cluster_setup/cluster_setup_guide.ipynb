{
 "cells": [
  {
   "cell_type": "markdown",
   "id": "308b6489",
   "metadata": {},
   "source": [
    "## To Setup New Cluster"
   ]
  },
  {
   "cell_type": "markdown",
   "id": "bd5502cf",
   "metadata": {},
   "source": [
    "### Step.1: Install Script on Master Node\n",
    "- Run the following script on master node\n",
    "- If Needed you can change CIDR of POD in the script\n",
    "```bash\n",
    "sudo bash master_node/install_masternode.sh\n",
    "```\n",
    "- Collect the join command from the output of the script.\n",
    "- The join command will look like this:\n",
    "```bash\n",
    "kubeadm join <master-ip>:<port> --token <token> --discovery-token-ca-cert-hash sha256:<hash>\n",
    "```\n",
    "- Once Master node is ready:\n",
    "```bash\n",
    "  mkdir -p $HOME/.kube\n",
    "  sudo cp -i /etc/kubernetes/admin.conf $HOME/.kube/config\n",
    "  sudo chown $(id -u):$(id -g) $HOME/.kube/config\n",
    "```\n",
    "- Then create neworking layer with weavenet\n",
    "```bash\n",
    "kubectl apply -f https://reweave.azurewebsites.net/k8s/v1.29/net.yaml\n",
    "```"
   ]
  },
  {
   "cell_type": "markdown",
   "id": "86ba594b",
   "metadata": {},
   "source": [
    "### Step.2: Install and Join Script on Worker Node\n",
    "- First install the Nvidia Driver by downloading latest driver from Nvidia website\n",
    "- Run the following script on worker node\n",
    "```bash\n",
    "sudo bash gpu_node/install_workernode_and_join.sh 'join_command_from_master'\n",
    "```\n",
    "- Copy the config file from master and put it in worker node for kubectl access\n",
    "```bash\n",
    "mkdir -p $HOME/.kube\n",
    "# scp the $HOME/.kube/config from master node to worker node\n",
    "# and then run the following command on worker node\n",
    "sudo chown $(id -u):$(id -g) $HOME/.kube/config\n",
    "```\n",
    "- Then install the Nvidia Contiainer Toolkit by running the following this\n",
    "    - `https://docs.nvidia.com/datacenter/cloud-native/container-toolkit/latest/install-guide.html`"
   ]
  },
  {
   "cell_type": "markdown",
   "id": "52e8caa7",
   "metadata": {},
   "source": [
    "### Step.3: Add Tag to Worker Node (for GPU Node only)\n",
    "- Add the tag to the worker node by running the following command\n",
    "```bash\n",
    "bash gpu_node/annotation_gpunode.sh\n",
    "```"
   ]
  },
  {
   "cell_type": "markdown",
   "id": "aef58fa9",
   "metadata": {},
   "source": [
    "### Step.4: Replace Toml File in Master node(do this after node joining the cluster)\n",
    "- Replace the toml file in master node with the one provided in `master_node/config_master.toml` to `/etc/containerd/config.toml`\n",
    "```bash\n",
    "sudo cp master_node/config_master.toml /etc/containerd/config.toml\n",
    "```\n",
    "- Restart the containerd service\n",
    "```bash\n",
    "sudo systemctl restart containerd   \n",
    "```"
   ]
  },
  {
   "cell_type": "markdown",
   "id": "43f0bdac",
   "metadata": {},
   "source": [
    "### Step.5: Replace Toml File in Worker node(do this after node joining the cluster)\n",
    "- Replace the toml file in worker node with the one provided in `worker_node/config_gpu.toml` to `/etc/containerd/config.toml`\n",
    "```bash\n",
    "sudo cp worker_node/config_gpu.toml /etc/containerd/config.toml\n",
    "```\n",
    "- Restart the containerd service\n",
    "```bash\n",
    "sudo systemctl restart containerd   \n",
    "```"
   ]
  },
  {
   "cell_type": "markdown",
   "id": "fdb7957a",
   "metadata": {},
   "source": [
    "### **To Remove added node**"
   ]
  },
  {
   "cell_type": "markdown",
   "id": "6222bc3e",
   "metadata": {},
   "source": [
    "To remove the added node from cluster cleanely\n",
    "- from Controller plane\n",
    "    - `kubectl drain <node-name> --ignore-daemonsets --delete-emptydir-data`\n",
    "    - `kubectl delete node <node-name>`\n",
    "- from node to be removed from k8s cluster\n",
    "    - `bash node_cleanup.bash` "
   ]
  }
 ],
 "metadata": {
  "kernelspec": {
   "display_name": "Python 3 (ipykernel)",
   "language": "python",
   "name": "python3"
  },
  "language_info": {
   "codemirror_mode": {
    "name": "ipython",
    "version": 3
   },
   "file_extension": ".py",
   "mimetype": "text/x-python",
   "name": "python",
   "nbconvert_exporter": "python",
   "pygments_lexer": "ipython3",
   "version": "3.10.12"
  }
 },
 "nbformat": 4,
 "nbformat_minor": 5
}
