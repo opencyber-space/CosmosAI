{
 "cells": [
  {
   "cell_type": "markdown",
   "id": "5eb295a8",
   "metadata": {},
   "source": [
    "## 🧠 Cluster,Node,Block Onboarding - Policies of control - PART-1\n",
    "\n",
    "- Author: Shridhar Kini (Profile)\n",
    "- To Securely Run: `jupyter notebook password` to generate onetime password for secure access\n",
    "- To Run: `jupyter notebook --allow-root  --port 9999 --ip=0.0.0.0`\n",
    "- To Clear Outputs: Use `jupyter nbconvert --clear-output --inplace cluster_node_block.ipynb`\n",
    "\n",
    "This notebook provides an overview of the **Cluster Controller Gateway,** **Cluster Controller,** **Cluster,** **Nodes** and  **Blocks** features in the AIOSv1 platform. These features are designed to helps users to onboard, manage and monitor their clusters, nodes, and blocks effectively and to define policies of control on each of these units.\n",
    "\n",
    "### ⛩️**I. Cluster Controller Gateway** ([Doc](https://github.com/OpenCyberspace/OpenOS.AI-Documentation/blob/main/cluster-controller-gateway/cluster-cotroller-gateway.md))\n",
    "- multiple clusters can exist in the network\n",
    "- gateway/interface between the clusters present in the network and the users & parsers([Parser](https://github.com/OpenCyberspace/OpenOS.AI-Documentation/blob/main/parser/parser.md))\n",
    "- execute multiple cluster level functionalities through this gateway\n",
    "- Cluster controller gateway runs as a part of AIOS management services by default, so the management of the cluster controller gateway falls under the network owner\n",
    "- User-level functionalities:\n",
    "    - Query Cluster Metrics(Cluster ID)/Node metrics(Cluster ID, Node ID)\n",
    "    - Update/Delete the details of the cluster.\n",
    "    - Allocate/De-allocate the cluster infrastructure components by providing the cluster Kubernetes config file ID.\n",
    "    - Add/Remove nodes to the cluster.\n",
    "    - Create/Delete vDAG controller infrastructure components.\n",
    "    - Execute block level management commands (like parameter updates, updating policy parameters or SDK level parameters) (block ID needed).\n",
    "    - Execute cluster controller level management commands (cluster ID needed).\n",
    "    - Manually scale the block’s instances (block ID and cluster ID needed).\n",
    "\n",
    "#### **Cluster controller gateway components:**\n",
    "- Internal(for parser, search server) and external(users) APIs server\n",
    "- Pre-check policy rule executor:\n",
    "    - pre-check is a policy-rule that will determine whether an action can be allowed or not\n",
    "    - network admin who manages the management cluster can implement these pre-check rules\n",
    "        - Actions like `add_node`, `remove_node`, `add_cluster`, `remove_cluster`,  `add_block`, `remove_block`, `update_cluster`, `scale_block`, `block_mgmt`, `cluster_mgmt` etc.\n",
    "- Block allocator, dry run modules:\n",
    "    - used internally from the parser\n",
    "    - needs block’s resource allocation policy rule and cluster DB API client for filtering the cluster.\n",
    "    - needs cluster controller client APIs for allocating blocks.\n",
    "    - asynchronous operations: taskID will be returned to the user. (Query task DB API to get the status of the task)\n",
    "- Cluster infra management module:\n",
    "    - creating / removing the cluster controller infrastructure\n",
    "        - metrics DBs\n",
    "        - Creates the metrics reader and writer services\n",
    "        - metrics collector daemon-set in all nodes(for HW Metrics of the Node)\n",
    "        - Creates the cluster controller\n",
    "        - Configures the services, ingresses and the ports mapping\n",
    "        - Updates the cluster entry in the DB with the URL details of the cluster controller and the metrics services, so it can be used by other services\n",
    "- Cluster nodes add/remove module:\n",
    "    - add/remove nodes to the existing cluster - node onboarding script\n",
    "    - node onboarding script will be executed in the node to be added\n",
    "- vDAG controller module:\n",
    "    - creation, removal and scaling of the vDAG controller on cluster\n",
    "    - simply forwards the request to the cluster controller on the cluster\n",
    "- Cluster DB, Cluster metrics DB, Cluster controller client modules:\n",
    "    - internal client modules that are used by other modules for interacting with cluster controller service, cluster metrics service of the target cluster and the Global cluster DB\n",
    "\n",
    "#### **Sample Json**\n",
    "- **[Cluster Data](sample_jsons/cluster_data.json)**\n",
    "- **[Cluster Metrics](sample_jsons/cluster_metrics.json)**\n",
    "- **[Node Data](sample_jsons/node_data.json)**\n",
    "- **[Block Data](sample_jsons/block_data.json)**\n",
    "- **[Scale Data](sample_jsons/scale_data.json)**\n",
    "\n",
    "#### Cluster Controller Gateway APIs\n",
    "- Cluster entry read, update and delete APIs\n",
    "    - Cluster read API\n",
    "    - Update cluster API\n",
    "    - Delete cluster entry API\n",
    "- Cluster metrics query APIs\n",
    "    - Get metrics of cluster\n",
    "    - Get metrics of a node\n",
    "- Scale/Downscale instances of a running block \n",
    "    - Upscale\n",
    "    - Downscale\n",
    "- Cluster Infra APIs:\n",
    "    - Create Your cluster with Master nodes and Worker nodes\n",
    "        - Follow **[cluster_setup_guide](cluster_setup/cluster_setup_guide.ipynb)**\n",
    "    - Cluster Registration in AIOS:\n",
    "        - Once Cluster is created, register the cluster in AIOS DB by using `Parser API`\n",
    "    - Upon Registraion, Create a cluster infra by providing the kube config file for below operations\n",
    "        - Create cluster infrastructure API\n",
    "        - Remove cluster infrastructure API\n",
    "- vDAG controller actions:\n",
    "    - gateway acts like proxy for vDAG controller management actions like create/remove/scaling/vdag controllers management api\n",
    "    - sample API\n",
    "    - `curl -X POST \"http://$GATEWAY_URL/vdag-controller/$CLUSTER_ID\" -H \"Content-Type: application/json\" -d '{ \"action\": \"<action_value>\", \"payload\": <payload_data>}'`\n",
    "\n",
    "\n",
    "### **🎮II. Cluster Controller**([Doc](https://github.com/OpenCyberspace/OpenOS.AI-Documentation/blob/main/cluster-controller/cluster-controller.md#management-command-executor-apis))\n",
    "- is a suite of services deployed by default on each cluster\n",
    "- It is responsible for orchestrating and managing the lifecycle of blocks/vdags running within the cluster\n",
    "- handles the onboarding and deboarding of nodes, \n",
    "- monitors the health of both nodes and pods, and ensures high availability through automated failure recovery mechanisms."
   ]
  },
  {
   "cell_type": "markdown",
   "id": "5918b42d",
   "metadata": {},
   "source": [
    "**To  GET PORT MAPPING wrt to Service**([Doc](https://docs.aigr.id/installation/installation/#deploying-registry-services))"
   ]
  },
  {
   "cell_type": "code",
   "execution_count": null,
   "id": "3978783d",
   "metadata": {},
   "outputs": [],
   "source": [
    "# 🔧 Configuration Setup - Run this cell first to set up shared variables\n",
    "import os\n",
    "\n",
    "# Set configuration variables that will be available across all cells\n",
    "GATEWAY_URL = \"MANAGEMENTMASTER:30600\"\n",
    "CLUSTER_ID = \"gcp-cluster-2\"\n",
    "GLOBAL_CLUSTER_METRICS_DB = \"MANAGEMENTMASTER:30202\"\n",
    "GLOBAL_BLOCK_METRICS_DB = \"MANAGEMENTMASTER:30201\"\n",
    "PARSER_URL = \"MANAGEMENTMASTER:30501\"\n",
    "GLOBAL_CLUSTER_DB = \"MANAGEMENTMASTER:30101\"\n",
    "GLOBAL_TASK_DB_SERVICE = \"MANAGEMENTMASTER:30108\"\n",
    "COMPONENT_REGISTRY_SERVICE = \"MANAGEMENTMASTER:30112\"\n",
    "GLOBAL_BLOCKDB_SERVICE = \"MANAGEMENTMASTER:30100\"\n",
    "#SERVER_URL = \"10.10.10.10:5000\"  # For other API calls\n",
    "\n",
    "# Set environment variables for bash cells\n",
    "os.environ['GATEWAY_URL'] = GATEWAY_URL\n",
    "os.environ['CLUSTER_ID'] = CLUSTER_ID\n",
    "os.environ['GLOBAL_CLUSTER_METRICS_DB'] = GLOBAL_CLUSTER_METRICS_DB\n",
    "os.environ['GLOBAL_BLOCK_METRICS_DB'] = GLOBAL_BLOCK_METRICS_DB\n",
    "os.environ['PARSER_URL'] = PARSER_URL\n",
    "os.environ['GLOBAL_CLUSTER_DB'] = GLOBAL_CLUSTER_DB\n",
    "os.environ['GLOBAL_TASK_DB_SERVICE'] = GLOBAL_TASK_DB_SERVICE\n",
    "os.environ['COMPONENT_REGISTRY_SERVICE'] = COMPONENT_REGISTRY_SERVICE\n",
    "os.environ['GLOBAL_BLOCKDB_SERVICE'] = GLOBAL_BLOCKDB_SERVICE\n",
    "#os.environ['SERVER_URL'] = SERVER_URL\n",
    "\n",
    "print(\"✅ Configuration variables set:\")\n",
    "print(f\"   • GATEWAY_URL: {GATEWAY_URL}\")\n",
    "print(f\"   • CLUSTER_ID: {CLUSTER_ID}\")\n",
    "print(f\"   • GLOBAL_CLUSTER_METRICS_DB: {GLOBAL_CLUSTER_METRICS_DB}\")\n",
    "print(\"\\n📝 These variables are now available in both Python and bash cells!\")\n",
    "print(\"   - In Python: use GATEWAY_URL, CLUSTER_ID, GLOBAL_CLUSTER_METRICS_DB PARSER_URL GLOBAL_CLUSTER_DB GLOBAL_TASK_DB_SERVICE\")\n",
    "print(\"   - In bash: use $GATEWAY_URL, $CLUSTER_ID, $GLOBAL_CLUSTER_METRICS_DB $PARSER_URL $GLOBAL_CLUSTER_DB $GLOBAL_TASK_DB_SERVICE\")\n",
    "os.system('echo $GATEWAY_URL')\n",
    "os.system('echo $CLUSTER_ID')\n",
    "os.system('echo $GLOBAL_CLUSTER_METRICS_DB')\n",
    "os.system('echo $PARSER_URL')\n",
    "os.system('echo $GLOBAL_CLUSTER_DB')\n",
    "os.system('echo $GLOBAL_TASK_DB_SERVICE')\n",
    "os.system('echo $COMPONENT_REGISTRY_SERVICE')\n",
    "os.system('echo $GLOBAL_BLOCKDB_SERVICE')\n",
    "os.system('echo $GLOBAL_BLOCK_METRICS_DB')"
   ]
  },
  {
   "cell_type": "markdown",
   "id": "55217650",
   "metadata": {
    "vscode": {
     "languageId": "plaintext"
    }
   },
   "source": [
    "**Cluster read API**"
   ]
  },
  {
   "cell_type": "code",
   "execution_count": null,
   "id": "57e3e1e2",
   "metadata": {
    "vscode": {
     "languageId": "shellscript"
    }
   },
   "outputs": [],
   "source": [
    "%%bash \n",
    "echo $GATEWAY_URL\n",
    "echo $CLUSTER_ID\n",
    "curl -X GET http://$GATEWAY_URL/clusters/read/$CLUSTER_ID | json_pp"
   ]
  },
  {
   "cell_type": "markdown",
   "id": "7789aebe",
   "metadata": {},
   "source": [
    "**Update cluster API**"
   ]
  },
  {
   "cell_type": "code",
   "execution_count": null,
   "id": "22b2896b",
   "metadata": {
    "vscode": {
     "languageId": "shellscript"
    }
   },
   "outputs": [],
   "source": [
    "%%bash\n",
    "echo $GATEWAY_URL\n",
    "echo $CLUSTER_ID\n",
    "curl -X PATCH http://$GATEWAY_URL/clusters/update/$CLUSTER_ID -H \"Content-Type: application/json\" -d '{\"tags\": [\"gpu\",\"production\",\"ml\",\"vision\",\"us-central-1\",\"dummy\"] }' | json_pp\n"
   ]
  },
  {
   "cell_type": "markdown",
   "id": "e22c6be7",
   "metadata": {},
   "source": [
    "**Delete cluster entry API**"
   ]
  },
  {
   "cell_type": "code",
   "execution_count": null,
   "id": "9936e477",
   "metadata": {
    "vscode": {
     "languageId": "shellscript"
    }
   },
   "outputs": [],
   "source": [
    "%%bash\n",
    "#curl -X DELETE http://$GATEWAY_URL/clusters/delete/<cluster-id> | json_pp"
   ]
  },
  {
   "cell_type": "markdown",
   "id": "1ec53084",
   "metadata": {},
   "source": [
    "**Get metrics of cluster**"
   ]
  },
  {
   "cell_type": "code",
   "execution_count": null,
   "id": "25537abf",
   "metadata": {
    "vscode": {
     "languageId": "shellscript"
    }
   },
   "outputs": [],
   "source": [
    "%%bash \n",
    "curl -X GET http://$GATEWAY_URL/cluster-metrics/$CLUSTER_ID -H \"Content-Type: application/json\" | json_pp"
   ]
  },
  {
   "cell_type": "code",
   "execution_count": null,
   "id": "94420e72-9cca-4070-9ca0-8e5938f1b3cd",
   "metadata": {
    "vscode": {
     "languageId": "shellscript"
    }
   },
   "outputs": [],
   "source": [
    "%%bash \n",
    "curl -X GET http://$GLOBAL_CLUSTER_METRICS_DB/cluster/gcp-cluster-2"
   ]
  },
  {
   "cell_type": "markdown",
   "id": "d67f45cd",
   "metadata": {},
   "source": [
    "**Get metrics of a node**"
   ]
  },
  {
   "cell_type": "code",
   "execution_count": null,
   "id": "54e78ccd",
   "metadata": {
    "vscode": {
     "languageId": "shellscript"
    }
   },
   "outputs": [],
   "source": [
    "%%bash\n",
    "curl -X GET http://$GATEWAY_URL/cluster-metrics/node/$CLUSTER_ID/wc-gpu-node3 -H \"Content-Type: application/json\" | json_pp\n"
   ]
  },
  {
   "cell_type": "markdown",
   "id": "454b307a",
   "metadata": {},
   "source": [
    "**Upscale**"
   ]
  },
  {
   "cell_type": "code",
   "execution_count": null,
   "id": "f9bb80a4",
   "metadata": {
    "vscode": {
     "languageId": "shellscript"
    }
   },
   "outputs": [],
   "source": [
    "%%bash\n",
    "#check details of a block\n",
    "curl -X GET http://$GLOBAL_BLOCKDB_SERVICE/blocks/magistral-small-2506-llama-cpp-block \\\n",
    "    -H \"Content-Type: application/json\" | json_pp"
   ]
  },
  {
   "cell_type": "code",
   "execution_count": null,
   "id": "c5f132a0",
   "metadata": {
    "vscode": {
     "languageId": "shellscript"
    }
   },
   "outputs": [],
   "source": [
    "%%bash\n",
    "curl -X GET http://$GLOBAL_BLOCK_METRICS_DB/block/demo-magistral-block-llama-cpp | json_pp"
   ]
  },
  {
   "cell_type": "code",
   "execution_count": null,
   "id": "80760e19",
   "metadata": {
    "vscode": {
     "languageId": "shellscript"
    }
   },
   "outputs": [],
   "source": [
    "%%bash\n",
    "#create 2 more instance of it\n",
    "curl -X POST \"http://$GATEWAY_URL/controller/block-scaling/gcp-cluster-2\" \\\n",
    "     -H \"Content-Type: application/json\" \\\n",
    "     -d '{\n",
    "           \"operation\": \"scale\",\n",
    "           \"block_id\": \"magistral-small-2506-llama-cpp-block\",\n",
    "           \"instances_count\": 2,\n",
    "           \"allocation_data\": [\n",
    "               {\n",
    "                   \"node_id\": \"wc-gpu-node2\",\n",
    "                   \"gpu_ids\": [0, 1]\n",
    "               },\n",
    "               {\n",
    "                   \"node_id\": \"wc-gpu-node1\",\n",
    "                   \"gpu_ids\": [0]\n",
    "               }\n",
    "           ]\n",
    "         }' | json_pp"
   ]
  },
  {
   "cell_type": "markdown",
   "id": "8573285c",
   "metadata": {},
   "source": [
    "**DownScale**"
   ]
  },
  {
   "cell_type": "code",
   "execution_count": null,
   "id": "f6a5d48a-e678-46b0-8ffe-573f46e22c05",
   "metadata": {
    "vscode": {
     "languageId": "shellscript"
    }
   },
   "outputs": [],
   "source": [
    "%%bash\n",
    "curl -X POST \"http://$GATEWAY_URL/controller/block-scaling/gcp-cluster-2\" \\\n",
    "     -H \"Content-Type: application/json\" \\\n",
    "     -d '{\n",
    "           \"operation\": \"downscale\",\n",
    "           \"block_id\": \"magistral-small-2506-llama-cpp-block\",\n",
    "           \"instances_list\": [\"in-zr2p\",\"in-1cbr\"]\n",
    "         }' | json_pp"
   ]
  },
  {
   "cell_type": "markdown",
   "id": "c85f570f",
   "metadata": {},
   "source": [
    "### **Cluster Controller Creation**"
   ]
  },
  {
   "cell_type": "markdown",
   "id": "f0302b04",
   "metadata": {},
   "source": [
    "**Register Cluster With Parser API**"
   ]
  },
  {
   "cell_type": "code",
   "execution_count": null,
   "id": "95804ced",
   "metadata": {
    "vscode": {
     "languageId": "shellscript"
    }
   },
   "outputs": [],
   "source": [
    "%%bash \n",
    "curl -X POST http://$PARSER_URL/api/createCluster \\\n",
    "  -H \"Content-Type: application/json\" \\\n",
    "  -d @cluster_onboarding_to_aios/cluster-1.json"
   ]
  },
  {
   "cell_type": "markdown",
   "id": "02d0bfc2",
   "metadata": {},
   "source": [
    "**To Query Cluster**"
   ]
  },
  {
   "cell_type": "code",
   "execution_count": null,
   "id": "3192f3e1",
   "metadata": {
    "vscode": {
     "languageId": "shellscript"
    }
   },
   "outputs": [],
   "source": [
    "%%bash\n",
    "curl http://$GLOBAL_CLUSTER_DB/clusters/gcp-demo-cluster | json_pp"
   ]
  },
  {
   "cell_type": "markdown",
   "id": "60bc176f",
   "metadata": {},
   "source": [
    "**To Update Any Cluster Info**"
   ]
  },
  {
   "cell_type": "code",
   "execution_count": null,
   "id": "80731058",
   "metadata": {
    "vscode": {
     "languageId": "shellscript"
    }
   },
   "outputs": [],
   "source": [
    "%%bash\n",
    "curl -X PUT http://$GLOBAL_CLUSTER_DB/clusters/gcp-demo-cluster -H \"Content-Type: application/json\" -d '{\n",
    "    \"config.publicHostname\":  \"DEMOMASTERNODE\",\n",
    "    \"config.urlMap\" : {         \n",
    "         \"blocksQuery\" : \"http://DEMOMASTERNODE:32302\",\n",
    "         \"controllerService\" : \"http://DEMOMASTERNODE:32300\",\n",
    "         \"membershipServer\" : \"http://DEMOMASTERNODE:30501\",\n",
    "         \"metricsService\" : \"http://DEMOMASTERNODE:32301\",\n",
    "         \"parameterUpdater\" : \"http://DEMOMASTERNODE:32303\",\n",
    "         \"publicGateway\" : [\n",
    "            \"DEMOMASTERNODE:32000\"\n",
    "         ]\n",
    "      }\n",
    "}'"
   ]
  },
  {
   "cell_type": "markdown",
   "id": "e308dc78",
   "metadata": {},
   "source": [
    "### Get Kube Config  DATA for Cluster Controller Gateway APIs and Create Cluster Infra\n"
   ]
  },
  {
   "cell_type": "code",
   "execution_count": null,
   "id": "3e88abb9",
   "metadata": {},
   "outputs": [],
   "source": [
    "import os\n",
    "import yaml\n",
    "import argparse\n",
    "import requests\n",
    "\n",
    "DEFAULT_KUBE_CONFIG_PATH = \"cluster_setup/master_node/config.yaml\"\n",
    "API_URL = \"http://MANAGEMENTMASTER:30600/create-cluster-infra\"\n",
    "\n",
    "\n",
    "def create_cluster_infra(cluster_id, kube_config_data):\n",
    "  payload = {\n",
    "    \"cluster_id\": cluster_id,\n",
    "    \"kube_config_data\": yaml.safe_load(open(DEFAULT_KUBE_CONFIG_PATH, \"r\"))\n",
    "  }\n",
    "  response = requests.post(API_URL, json=payload)\n",
    "  print(response.text, response.status_code)\n",
    "  if response.status_code == 200:\n",
    "    print(\"Cluster creation scheduled successfully:\", response.json())\n",
    "  else:\n",
    "    print(\"Error creating cluster:\", response.json())\n",
    "\n",
    "create_cluster_infra(\"gcp-demo-cluster\", kube_config_data=None)"
   ]
  },
  {
   "cell_type": "markdown",
   "id": "b1f60dea",
   "metadata": {},
   "source": [
    "**In Master Node:Check Pods**"
   ]
  },
  {
   "cell_type": "markdown",
   "id": "0881f350",
   "metadata": {
    "vscode": {
     "languageId": "shellscript"
    }
   },
   "source": [
    "- `kubectl get pods -n controllers`\n",
    "- `kubectl get pods -n metrics`"
   ]
  },
  {
   "cell_type": "markdown",
   "id": "3c13f7e9",
   "metadata": {},
   "source": [
    "**Create cluster infrastructure API**"
   ]
  },
  {
   "cell_type": "code",
   "execution_count": null,
   "id": "37ca517e",
   "metadata": {
    "vscode": {
     "languageId": "shellscript"
    }
   },
   "outputs": [],
   "source": [
    "%%bash\n",
    "curl -X POST \"http://$GATEWAY_URL/create-cluster-infra\" \\\n",
    "    -H \"Content-Type: application/json\" \\\n",
    "    -d '{\n",
    "    \"cluster_id\": \"gcp-demo-cluster\",\n",
    "    \"kube_config_data\": \"c3BlY2lhbC1lbmNvZGVkLWt1YmUtY29uZmlnLWRhdGE=\"\n",
    "    }' | json_pp"
   ]
  },
  {
   "cell_type": "markdown",
   "id": "bebe40c8",
   "metadata": {},
   "source": [
    "**Remove cluster infrastructure API**"
   ]
  },
  {
   "cell_type": "code",
   "execution_count": null,
   "id": "637843e3",
   "metadata": {
    "vscode": {
     "languageId": "shellscript"
    }
   },
   "outputs": [],
   "source": [
    "%%bash\n",
    "curl -X POST \"http://$GATEWAY_URL/remove-cluster-infra\" \\\n",
    "-H \"Content-Type: application/json\" \\\n",
    "-d '{\n",
    "        \"cluster_id\": \"gcp-demo-cluster\",\n",
    "        \"kube_config_data\": {}\n",
    "    }' | json_pp"
   ]
  },
  {
   "cell_type": "code",
   "execution_count": null,
   "id": "29c34bf7",
   "metadata": {},
   "outputs": [],
   "source": [
    "import os\n",
    "import yaml\n",
    "import argparse\n",
    "import requests\n",
    "\n",
    "DEFAULT_KUBE_CONFIG_PATH = \"cluster_setup/master_node/config.yaml\"\n",
    "API_URL = \"http://MANAGEMENTMASTER:30600/remove-cluster-infra\"\n",
    "\n",
    "\n",
    "def remove_cluster_infra(cluster_id, kube_config_data):\n",
    "  payload = {\n",
    "    \"cluster_id\": cluster_id,\n",
    "    \"kube_config_data\": yaml.safe_load(open(DEFAULT_KUBE_CONFIG_PATH, \"r\"))\n",
    "  }\n",
    "  response = requests.post(API_URL, json=payload)\n",
    "  print(response.text, response.status_code)\n",
    "  if response.status_code == 200:\n",
    "    print(\"Cluster creation scheduled successfully:\", response.json())\n",
    "  else:\n",
    "    print(\"Error creating cluster:\", response.json())\n",
    "\n",
    "remove_cluster_infra(\"gcp-demo-cluster\", kube_config_data=None)"
   ]
  },
  {
   "cell_type": "markdown",
   "id": "ed96ee89",
   "metadata": {},
   "source": [
    "**Query With TaskID**"
   ]
  },
  {
   "cell_type": "code",
   "execution_count": null,
   "id": "a6114e49",
   "metadata": {
    "vscode": {
     "languageId": "shellscript"
    }
   },
   "outputs": [],
   "source": [
    "%%bash\n",
    "curl -X GET http://$GLOBAL_TASK_DB_SERVICE/task/72656caa-6d84-4a79-a6ee-4804406e1d2f"
   ]
  },
  {
   "cell_type": "markdown",
   "id": "91f067b5",
   "metadata": {},
   "source": [
    "**Remove Cluster Entry in DB**"
   ]
  },
  {
   "cell_type": "code",
   "execution_count": null,
   "id": "3b24a075-ab3d-4c86-8a48-440d7e0ac1ea",
   "metadata": {
    "vscode": {
     "languageId": "shellscript"
    }
   },
   "outputs": [],
   "source": [
    "%%bash\n",
    "#curl -X DELETE http://$GLOBAL_CLUSTER_DB/clusters/gcp-demo-cluster\n",
    " "
   ]
  },
  {
   "cell_type": "markdown",
   "id": "219d6a8b-1fa5-446a-8257-9fe532e6bd82",
   "metadata": {},
   "source": [
    "## **Create Blocks in Cluster(With Basic Policies)**"
   ]
  },
  {
   "cell_type": "markdown",
   "id": "8f8d3d68",
   "metadata": {},
   "source": [
    "#### **Register Components**"
   ]
  },
  {
   "cell_type": "code",
   "execution_count": null,
   "id": "16ec693f",
   "metadata": {
    "vscode": {
     "languageId": "shellscript"
    }
   },
   "outputs": [],
   "source": [
    "%%bash \n",
    "curl -X POST http://$COMPONENT_REGISTRY_SERVICE/api/registerComponent \\\n",
    "  -H \"Content-Type: application/json\" \\\n",
    "  -d @./demo_block/component_demo_magistral.json | json_pp"
   ]
  },
  {
   "cell_type": "markdown",
   "id": "edb25e3f",
   "metadata": {},
   "source": [
    "#### **Unregister Components**"
   ]
  },
  {
   "cell_type": "code",
   "execution_count": null,
   "id": "978ee3d8",
   "metadata": {
    "vscode": {
     "languageId": "shellscript"
    }
   },
   "outputs": [],
   "source": [
    "%%bash\n",
    "curl -X POST http://$COMPONENT_REGISTRY_SERVICE/api/unregisterComponent \\\n",
    "  -H \"Content-Type: application/json\" \\\n",
    "  -d '{\"uri\":\"model.demo-magistral-llama_cpp:1.0.0-stable\"}' | json_pp"
   ]
  },
  {
   "cell_type": "markdown",
   "id": "71d1dc08",
   "metadata": {},
   "source": [
    "#### **Deploy Block**"
   ]
  },
  {
   "cell_type": "code",
   "execution_count": null,
   "id": "ce3767a8",
   "metadata": {
    "vscode": {
     "languageId": "shellscript"
    }
   },
   "outputs": [],
   "source": [
    "%%bash\n",
    "curl -X POST http://$PARSER_URL/api/createBlock \\\n",
    " -H \"Content-Type: application/json\" \\\n",
    " -d @./demo_block/allocation-demo-mistral.json | json_pp"
   ]
  },
  {
   "cell_type": "markdown",
   "id": "9bef6b33",
   "metadata": {},
   "source": [
    "#### **Get Block Details**"
   ]
  },
  {
   "cell_type": "code",
   "execution_count": null,
   "id": "e8311d0a",
   "metadata": {
    "vscode": {
     "languageId": "shellscript"
    }
   },
   "outputs": [],
   "source": [
    "%%bash\n",
    "curl -X GET http://$GLOBAL_BLOCKDB_SERVICE/blocks/demo-magistral-block-llama-cpp \\\n",
    "    -H \"Content-Type: application/json\" | json_pp"
   ]
  },
  {
   "cell_type": "markdown",
   "id": "dbec54ae",
   "metadata": {},
   "source": [
    "#### **Create Inference Server For The Cluster**\n",
    "- Run this commands in your cluster node(like master node)"
   ]
  },
  {
   "cell_type": "markdown",
   "id": "dcb249f2",
   "metadata": {
    "vscode": {
     "languageId": "shellscript"
    }
   },
   "source": [
    "- `kubectl create namespace inference-server`\n",
    "- `kubectl create -f inference_server/inference_server.yaml`"
   ]
  },
  {
   "cell_type": "markdown",
   "id": "83c9d261",
   "metadata": {},
   "source": [
    "#### **Do the Inference**"
   ]
  },
  {
   "cell_type": "code",
   "execution_count": null,
   "id": "f7a188b6",
   "metadata": {
    "vscode": {
     "languageId": "shellscript"
    }
   },
   "outputs": [],
   "source": [
    "%%bash\n",
    "curl -X POST  http://DEMOMASTERNODE:31504/v1/infer \\\n",
    "  -H \"Content-Type: application/json\" \\\n",
    "  -d '{\n",
    "  \"model\": \"demo-magistral-block-llama-cpp\",\n",
    "  \"session_id\": \"session-2\",\n",
    "  \"seq_no\": 16,\n",
    "  \"data\": {\n",
    "    \"mode\": \"chat\",\n",
    "    \"gen_params\": {\n",
    "      \"temperature\": 0.1,\n",
    "      \"top_p\": 0.95,\n",
    "      \"max_tokens\": 4096\n",
    "    },\n",
    "    \"message\": \"Give me code for adding two integers list element wise in python\",\n",
    "    \"system_message\": \"You are a helpful assistant that provides code examples.\"\n",
    "  },\n",
    "  \"graph\": {},\n",
    "  \"selection_query\": {\n",
    "    \n",
    "  }\n",
    "}'"
   ]
  },
  {
   "cell_type": "markdown",
   "id": "4db019eb",
   "metadata": {},
   "source": [
    "#### **Reassigning a Deployed instance**"
   ]
  },
  {
   "cell_type": "code",
   "execution_count": null,
   "id": "b17077fd",
   "metadata": {
    "vscode": {
     "languageId": "shellscript"
    }
   },
   "outputs": [],
   "source": [
    "%%bash\n",
    "curl -X GET http://$GLOBAL_BLOCK_METRICS_DB/block/demo-magistral-block-llama-cpp | json_pp"
   ]
  },
  {
   "cell_type": "code",
   "execution_count": null,
   "id": "b828062a",
   "metadata": {
    "vscode": {
     "languageId": "shellscript"
    }
   },
   "outputs": [],
   "source": [
    "%%bash \n",
    "\n",
    "curl -X POST \"http://$GATEWAY_URL/controller/reassign-instance/gcp-demo-cluster\" \\\n",
    "     -H \"Content-Type: application/json\" \\\n",
    "     -d '{\n",
    "           \"blockId\": \"demo-magistral-block-llama-cpp\",\n",
    "           \"instanceId\": \"in-zavw\",\n",
    "           \"extra_data\": {\n",
    "            \"allocation_data\":{\n",
    "                \"node_id\": \"demo-worker-node2\",\n",
    "                \"gpu_ids\": [0,1]\n",
    "               }\n",
    "           }\n",
    "         }'"
   ]
  },
  {
   "cell_type": "markdown",
   "id": "28eaf20f",
   "metadata": {},
   "source": [
    "#### **Remove Block**"
   ]
  },
  {
   "cell_type": "code",
   "execution_count": null,
   "id": "a6a33c6e",
   "metadata": {
    "vscode": {
     "languageId": "shellscript"
    }
   },
   "outputs": [],
   "source": [
    "%%bash\n",
    "curl -X POST http://$GATEWAY_URL/controller/removeBlock/gcp-demo-cluster \\\n",
    "    -H \"Content-Type: application/json\" \\\n",
    "    -d '{\"block_id\": \"demo-magistral-block-llama-cpp\"}'"
   ]
  }
 ],
 "metadata": {
  "kernelspec": {
   "display_name": "Python 3 (ipykernel)",
   "language": "python",
   "name": "python3"
  },
  "language_info": {
   "codemirror_mode": {
    "name": "ipython",
    "version": 3
   },
   "file_extension": ".py",
   "mimetype": "text/x-python",
   "name": "python",
   "nbconvert_exporter": "python",
   "pygments_lexer": "ipython3",
   "version": "3.10.12"
  }
 },
 "nbformat": 4,
 "nbformat_minor": 5
}
