{
 "cells": [
  {
   "cell_type": "markdown",
   "id": "b50a5dda",
   "metadata": {},
   "source": [
    "# A Developer's Guide to the AIOS Router\n",
    "\n",
    "Welcome to this guide on the **AIOS Router**, a powerful service that dynamically selects the best block to handle a request based on a set of filters and policies. The Router is essential for building intelligent, resource-aware applications that can adapt to changing conditions and requirements.\n",
    "\n",
    "Below is a visual overview of the routing process, where an incoming request is matched against a set of available blocks based on defined criteria.\n",
    "\n",
    "## High Level Block Diagram\n",
    "<img src=\"adhoc_inference_serving.png\" alt=\"Powerful Routers\" width=\"800\" height=\"800\"> \n",
    "\n",
    "## High Level Sequence Diagram\n",
    "<img src=\"router_2.png\" alt=\"Powerful Routers\" width=\"800\" height=\"800\"> \n",
    "\n",
    "For more details, refer to the official documentation:\n",
    "- [Router/Parser Concepts](https://docs.aigr.id/parser/search-server)"
   ]
  },
  {
   "cell_type": "markdown",
   "id": "99c0e3d5",
   "metadata": {},
   "source": [
    "## The Router in the AIOS Ecosystem\n",
    "\n",
    "The Router is a core component of the AIOS ecosystem, acting as an intelligent gateway for inference requests. Instead of sending a request to a specific block, you can send it to the Router with a set of requirements. The Router will then:\n",
    "\n",
    "1.  **Discover** all available blocks that could potentially handle the request.\n",
    "2.  **Filter** this list based on both dynamic, real-time metrics (e.g., current load, token speed) and static metadata (e.g., model capabilities, benchmark scores).\n",
    "3.  **Candidate Pool** Creation of candidate pool based on the filters\n",
    "4.  **Rank candidate pool** the filtered candidates are ranked using a sophisticated, policy-driven scoring mechanism.\n",
    "5.  **Final Decision** the best block based on the ranking and route the request to it.\n",
    "\n",
    "This allows you to build applications that are not tied to a specific model instance but can instead leverage the entire network of available resources, always choosing the best option for the job."
   ]
  },
  {
   "cell_type": "markdown",
   "id": "d61a0c32-2184-47bb-8454-c95415527c65",
   "metadata": {
    "jp-MarkdownHeadingCollapsed": true
   },
   "source": [
    "## 1. Deploying the Policy\n",
    "With the policy tested, we can now deploy it to AIOS. This involves three steps: Assembling the policy,uploading the policy package (tokenautoscaler.zip) and then registering it with the AIOS Policy System."
   ]
  },
  {
   "cell_type": "markdown",
   "id": "b44f4218-cc4f-44b4-a281-12df0fcc15f6",
   "metadata": {},
   "source": [
    "### a. Assembling the Policy for Deployment\n",
    "\n",
    "Now that we have defined all the methods of our `AIOSv1PolicyRule` class, we need to assemble them into a single script and package it correctly for deployment. The policy must be contained within a `code` directory, which includes the `function.py` file and a `requirements.txt` file."
   ]
  },
  {
   "cell_type": "code",
   "execution_count": null,
   "id": "2b95c757-8c73-4a0d-bed2-5a61a0866faa",
   "metadata": {},
   "outputs": [],
   "source": [
    "# Create a requirements.txt file\n",
    "with open(\"code/requirements.txt\", \"w\") as f:\n",
    "    f.write(\"requests\") # No external dependencies for this policy\n",
    "\n",
    "print(\"code/function.py and code/requirements.txt created successfully.\")\n",
    "!cat code/function.py"
   ]
  },
  {
   "cell_type": "markdown",
   "id": "603d7a4d-770d-4d7d-a23a-85a1b9351958",
   "metadata": {},
   "source": [
    "Now, let's package our policy into a `attributebasedrouter.zip` file for deployment. The zip file must contain the `code` directory."
   ]
  },
  {
   "cell_type": "code",
   "execution_count": null,
   "id": "7da108bc-7353-4a64-bb98-c1c6e798d94f",
   "metadata": {},
   "outputs": [],
   "source": [
    "!zip -r attributebasedrouter.zip code"
   ]
  },
  {
   "cell_type": "markdown",
   "id": "6046524a-e1f4-4659-ba48-a35528eb4009",
   "metadata": {},
   "source": [
    "### b. Upload the Policy Package\n",
    "\n",
    "First, we upload the `.zip` file containing our `function.py` to a location accessible by AIOS. The following `curl` command sends the file to an upload server, which makes it available via a URL."
   ]
  },
  {
   "cell_type": "code",
   "execution_count": null,
   "id": "f7472fed-67ea-487b-afd7-5b9268a8f343",
   "metadata": {},
   "outputs": [],
   "source": [
    "!curl -X POST http://POLICYSTORESERVER:30186/upload -F \"file=@./attributebasedrouter.zip\" -F \"path=.\""
   ]
  },
  {
   "cell_type": "markdown",
   "id": "18b720b1-e592-418a-a27e-47d96c2f0bde",
   "metadata": {},
   "source": [
    "### c. Register the Policy\n",
    "\n",
    "Next, we register the policy with AIOS. This `curl` command sends a JSON payload to the policy registry endpoint. The payload contains metadata about our policy, including its name, version, and the URL where the code can be found (`\"code\": \"http://MANAGEMENTMASTER:32555/attributebasedrouter.zip\"`). This tells AIOS how to find and execute our policy."
   ]
  },
  {
   "cell_type": "code",
   "execution_count": null,
   "id": "0ee32acf-ec6b-43fe-bfb8-b9ee474da0ef",
   "metadata": {},
   "outputs": [],
   "source": [
    "import requests\n",
    "\n",
    "policy_registration_payload = {\n",
    "    \"name\": \"attributebasedrouter\",\n",
    "    \"version\": \"2.0\",\n",
    "    \"release_tag\": \"stable\",\n",
    "    \"metadata\": {\"author\": \"admin\", \"category\": \"analytics\"},\n",
    "    \"tags\": \"analytics,ai\",\n",
    "    \"code\": \"http://MANAGEMENTMASTER:32555/attributebasedrouter.zip\",\n",
    "    \"code_type\": \"tar.xz\",\n",
    "    \"type\": \"policy\",\n",
    "    \"policy_input_schema\": {\n",
    "        \"type\": \"object\",\n",
    "        \"properties\": {\n",
    "            \"input\": {\"type\": \"string\"}\n",
    "        }\n",
    "    },\n",
    "    \"policy_output_schema\": {\n",
    "        \"type\": \"object\",\n",
    "        \"properties\": {\n",
    "            \"output\": {\"type\": \"string\"}\n",
    "        }\n",
    "    },\n",
    "    \"policy_settings_schema\": {\n",
    "        \"METRICS_BASE_URL\": {\n",
    "            \"type\": \"string\",\n",
    "            \"description\": \"Base URL for fetching block metrics\",\n",
    "            \"pattern\": \"^https?://.*\"\n",
    "        },\n",
    "        \"APP_MAP\": {\n",
    "            \"type\": \"object\",\n",
    "            \"description\": \"Mapping of application types to use cases\",\n",
    "            \"additionalProperties\": {\"type\": \"string\"}\n",
    "        }\n",
    "    },\n",
    "    \"policy_parameters_schema\": {\n",
    "        \"METRICS_BASE_URL\": {\n",
    "            \"type\": \"string\",\n",
    "            \"description\": \"Override for metrics base URL\",\n",
    "            \"pattern\": \"^https?://.*\"\n",
    "        },\n",
    "        \"selection_query\": {\n",
    "            \"type\": \"object\",\n",
    "            \"description\": \"Query for selecting and optimizing block candidates\",\n",
    "            \"properties\": {\n",
    "                \"application_type\": {\"type\": \"string\"},\n",
    "                \"optimization_goals\": {\n",
    "                    \"type\": \"array\",\n",
    "                    \"items\": {\n",
    "                        \"type\": \"object\",\n",
    "                        \"properties\": {\n",
    "                            \"name\": {\"type\": \"string\"},\n",
    "                            \"weight\": {\"type\": \"number\"}\n",
    "                        },\n",
    "                        \"required\": [\"name\"]\n",
    "                    }\n",
    "                }\n",
    "            }\n",
    "        }\n",
    "    },\n",
    "    \"policy_settings\": {\n",
    "        \"METRICS_BASE_URL\": \"http://metrics-service:30201\",\n",
    "        \"APP_MAP\": {\n",
    "            \"RAG\": \"chat-completion\",\n",
    "            \"Code\": \"code-generation\",\n",
    "            \"Vision\": \"multi-modal\",\n",
    "            \"Chat\": \"chat-completion\"\n",
    "        }\n",
    "    },\n",
    "    \"policy_parameters\": {\n",
    "        \"METRICS_BASE_URL\": \"http://metrics-service:30201\"\n",
    "    },\n",
    "    \"description\": \"A policy for dynamic block selection based on metrics and application type.\",\n",
    "    \"functionality_data\": {\"strategy\": \"ML-based\"},\n",
    "    \"resource_estimates\": {}\n",
    "}\n",
    "\n"
   ]
  },
  {
   "cell_type": "code",
   "execution_count": null,
   "id": "cf97fbc0-c60d-4763-adaa-deaa51e9133b",
   "metadata": {},
   "outputs": [],
   "source": [
    "response = requests.post(\n",
    "    \"http://MANAGEMENTMASTER:30102/policy\",\n",
    "    json=policy_registration_payload,\n",
    "    headers={\"Content-Type\": \"application/json\"}\n",
    ")\n",
    "\n",
    "print(\"Status Code:\", response.status_code)\n",
    "print(\"Response:\", response.text)"
   ]
  },
  {
   "cell_type": "markdown",
   "id": "3b254c52",
   "metadata": {
    "jp-MarkdownHeadingCollapsed": true
   },
   "source": [
    "## 2. The Router Request Structure\n",
    "\n",
    "The `curl` command below sends a search request to the Router. The request is a JSON payload that specifies the criteria for selecting a block. The key parts are the `blockQuery`, `blockMetricsQuery`, and `selection_query`, which we will explore in detail."
   ]
  },
  {
   "cell_type": "code",
   "execution_count": null,
   "id": "4588e562-9c20-4992-90e9-843e354b448c",
   "metadata": {
    "scrolled": true
   },
   "outputs": [],
   "source": [
    "!cat payload.json"
   ]
  },
  {
   "cell_type": "markdown",
   "id": "245c50f3",
   "metadata": {
    "jp-MarkdownHeadingCollapsed": true
   },
   "source": [
    "## 3. Understanding the Filters and Selection\n",
    "\n",
    "The power of the Router lies in its filtering and selection capabilities. The request uses two types of filters to narrow down the candidates, and then an optimization query to select the best one.\n",
    "\n",
    "### a. `blockQuery` (Static Metadata Filter)\n",
    "This filter looks at the static metadata of the registered components, as defined in their `component.json` files. It's used to find blocks with specific, unchanging characteristics.\n",
    "\n",
    "In this example, it's looking for a block where:\n",
    "- The `usecase` is like `*chat-completion*`.\n",
    "- `supportsStreaming` is `true`.\n",
    "- The MMLU benchmark score is greater than or equal to `80`.\n",
    "\n",
    "### b. `blockMetricsQuery` (Dynamic Metrics Filter)\n",
    "This filter queries the real-time metrics of the block instances. This is how the Router makes decisions based on the current performance and state of the system.\n",
    "\n",
    "In this example, it's looking for a block where the average:\n",
    "- `uptime_hours` is greater than `10`.\n",
    "- `llm_tokens_per_second` is greater than `10`.\n",
    "\n",
    "### c. `selection_query` (Optimization Goals)\n",
    "After the initial filtering, the `selection_query` is used to rank the remaining candidates. This is where the `attributebasedrouter` policy applies a more sophisticated scoring logic based on the defined `optimization_goals`. In the example, it prioritizes speed (`Fast_Generator`) over cost (`Free_Block`) with a 70/30 weighting."
   ]
  },
  {
   "cell_type": "markdown",
   "id": "31b50745",
   "metadata": {
    "jp-MarkdownHeadingCollapsed": true
   },
   "source": [
    "## 4. The `attributebasedrouter` Policy Explained\n",
    "## Sophistciated Name with naivity,connectable, simple explanntion\n",
    "The logic for processing these filters and goals is contained within the `attributebasedrouter` policy. The flow is as follows:\n",
    "\n",
    "1.  **Filtering**: The Router first applies the `blockQuery` and `blockMetricsQuery` to get a list of candidate blocks that meet the basic requirements.\n",
    "2.  **Scoring**: This list of candidates is then passed to the `attributebasedrouter` policy. The policy fetches detailed real-time and static metrics for each candidate.\n",
    "3.  **Ranking**: It then scores each candidate based on the `optimization_goals` provided in the `selection_query`. Each goal is a combination of one or more metrics. The policy normalizes these metric values and calculates a weighted score.\n",
    "4.  **Selection**: The block with the highest final score is selected and returned.\n",
    "\n",
    "#### Available Optimization Goals\n",
    "\n",
    "The `attributebasedrouter` policy supports several pre-defined optimization goals, each focusing on different aspects of performance and cost:\n",
    "\n",
    "-   **`Fast_Generator`**: Prioritizes blocks with the highest token generation speed (`llm_tokens_per_second`).\n",
    "-   **`Free_Block`**: Looks for blocks that are the least busy, preferring those with fewer active sessions (`llm_active_sessions`) and shorter processing queues (`queue_length`).\n",
    "-   **`Cost_Saver`**: Aims for efficiency by selecting blocks with a lower parameter count (`parameterCountB`) and less total GPU memory (`gpu_totalMem`).\n",
    "-   **`High_Quality_Lane`**: Focuses on overall performance, balancing low latency (`end_to_end_latency`), high throughput (`end_to_end_fps`), and strong benchmark scores (`MMLU`).\n",
    "-   **`Active_Block`**: The opposite of `Free_Block`. It selects the busiest blocks, useful for scenarios where you want to consolidate workloads on already active instances.\n",
    "-   **`Balanced_Performer`**: Provides a middle ground, balancing low latency and a smaller model size.\n",
    "\n",
    "#### You can combine these goals with different weights to create a custom ranking strategy tailored to your specific needs."
   ]
  },
  {
   "cell_type": "markdown",
   "id": "2fdf01da",
   "metadata": {
    "jp-MarkdownHeadingCollapsed": true
   },
   "source": [
    "## 5. Running the Inference Request\n",
    "\n",
    "Executing the `curl` command below will send the request to the Router, which will then perform the filtering and selection process based on our rules and return the most suitable block."
   ]
  },
  {
   "cell_type": "code",
   "execution_count": null,
   "id": "13cd31e4",
   "metadata": {
    "vscode": {
     "languageId": "bash"
    }
   },
   "outputs": [],
   "source": [
    "!curl -X POST http://MANAGEMENTMASTER:30501/api/search -H \"Content-Type: application/json\" -d @payload.json"
   ]
  },
  {
   "cell_type": "markdown",
   "id": "6671fbc9",
   "metadata": {
    "jp-MarkdownHeadingCollapsed": true
   },
   "source": [
    "## 6. Observing in Logs\n",
    "\n",
    "After running the request, you can check the logs of the **Parser** (Router) service. You will see:\n",
    "- The final ranked list of blocks and the one that was selected - can be see here in `Management Server` http://MANAGEMENTMASTER:32199/explore , under label `container` with value `executor-executor-001`"
   ]
  },
  {
   "cell_type": "markdown",
   "id": "0332ac37-bd8e-441d-8230-82c30f83953d",
   "metadata": {
    "jp-MarkdownHeadingCollapsed": true
   },
   "source": [
    "## 7. LLM Based Matchers"
   ]
  },
  {
   "cell_type": "code",
   "execution_count": null,
   "id": "dbb248d6-0203-4944-ba14-c3db763dc916",
   "metadata": {},
   "outputs": [],
   "source": [
    "from typing import Dict, List, Any, Optional\n",
    "def eval(self, parameters: Dict, input_data: Dict, context: Dict) -> Dict:\n",
    "        \"\"\"\n",
    "        Main evaluation function that processes input data and returns the selected block.\n",
    "        \"\"\"\n",
    "        try:\n",
    "            merged_params = {**self.parameters, **parameters}\n",
    "            \n",
    "            candidates = input_data.get('candidates', [])\n",
    "            if not candidates:\n",
    "                return self._create_error_response(\"No candidates provided\")\n",
    "            \n",
    "            query_string = merged_params.get('query_string', '').strip()\n",
    "            if not query_string:\n",
    "                return self._create_error_response(\"Query string is required\")\n",
    "\n",
    "            llm_block_id = merged_params.get('llm_block_id')\n",
    "            llm_server_address = merged_params.get('llm_server_address')\n",
    "\n",
    "            if not llm_block_id or not llm_server_address:\n",
    "                return self._create_error_response(\"LLM block ID and server address are required\")\n",
    "\n",
    "            prompt = f\"\"\"\n",
    "            Based on the following user query, select the best block from the candidates provided.\n",
    "            User Query: \"{query_string}\"\n",
    "            \n",
    "            Candidates:\n",
    "            {json.dumps(candidates, indent=2)}\n",
    "            \n",
    "            Respond with only the blockId of the best candidate.\n",
    "            \"\"\"\n",
    "            \n",
    "            # Extract relevant fields for the prompt\n",
    "            summarized_candidates = [self._summarize_candidate(c) for c in candidates]\n",
    "\n",
    "            prompt = f\"\"\"\n",
    "            Based on the following user query, select the best block from the candidates provided.\n",
    "            User Query: \"{query_string}\"\n",
    "            \n",
    "            Candidates:\n",
    "            {json.dumps(summarized_candidates, indent=2)}\n",
    "            \n",
    "            Respond with only the containerImage of the best candidate in a JSON object with the key \"containerImage\".\n",
    "            \"\"\"\n",
    "        \n",
    "            llm_response = self._call_llm_inference(prompt, llm_block_id, llm_server_address)\n",
    "            \n",
    "            if not llm_response or 'reply' not in llm_response:\n",
    "                return self._create_error_response(\"Invalid or empty response from LLM\")\n",
    "            \n",
    "            reply_text = llm_response['reply'].strip()\n",
    "            \n",
    "            selected_container_image = None\n",
    "            \n",
    "            # 1. Look for a JSON code block\n",
    "            json_match = re.search(r\"```json\\n(.*?)\\n```\", reply_text, re.DOTALL)\n",
    "            if json_match:\n",
    "                try:\n",
    "                    json_data = json.loads(json_match.group(1))\n",
    "                    selected_container_image = json_data.get(\"containerImage\")\n",
    "                except json.JSONDecodeError:\n",
    "                    logger.warning(f\"Found JSON block but failed to decode: {json_match.group(1)}\")\n",
    "\n",
    "            # 2. If no JSON block found, try to parse the whole reply\n",
    "            if not selected_container_image:\n",
    "                try:\n",
    "                    json_reply = json.loads(reply_text)\n",
    "                    selected_container_image = json_reply.get(\"containerImage\")\n",
    "                except json.JSONDecodeError:\n",
    "                    pass # Not a JSON object\n",
    "\n",
    "            # 3. If still nothing, assume the last line is the container image\n",
    "            if not selected_container_image:\n",
    "                selected_container_image = reply_text.splitlines()[-1].strip()\n",
    "\n",
    "\n",
    "            if not selected_container_image:\n",
    "                 return self._create_error_response(f\"Could not extract containerImage from LLM response: {reply_text}\")\n",
    "\n",
    "            # Find the selected block in the candidates\n",
    "            selected_block = next((c for c in candidates if c.get(\"containerRegistryInfo\", {}).get(\"containerImage\") == selected_container_image), None)\n",
    "\n",
    "            if not selected_block:\n",
    "                return self._create_error_response(f\"LLM selected a containerImage not in the candidate list: {selected_container_image}\")\n",
    "\n",
    "            return {\n",
    "                \"allowed\": True,\n",
    "                \"input_data\": {\n",
    "                    \"selected_block\": selected_block,\n",
    "                    \"timestamp\": self.current_time\n",
    "                }\n",
    "            }\n",
    "            \n",
    "        except Exception as e:\n",
    "            logger.error(f\"Error during evaluation: {e}\", exc_info=True)\n",
    "            return self._create_error_response(f\"Error during evaluation: {str(e)}\")\n"
   ]
  },
  {
   "cell_type": "code",
   "execution_count": null,
   "id": "9fac691e-d62d-42d0-bec7-109579579c84",
   "metadata": {},
   "outputs": [],
   "source": []
  }
 ],
 "metadata": {
  "kernelspec": {
   "display_name": "Python 3 (ipykernel)",
   "language": "python",
   "name": "python3"
  },
  "language_info": {
   "codemirror_mode": {
    "name": "ipython",
    "version": 3
   },
   "file_extension": ".py",
   "mimetype": "text/x-python",
   "name": "python",
   "nbconvert_exporter": "python",
   "pygments_lexer": "ipython3",
   "version": "3.12.3"
  }
 },
 "nbformat": 4,
 "nbformat_minor": 5
}
