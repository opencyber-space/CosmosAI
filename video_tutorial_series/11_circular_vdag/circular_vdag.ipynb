{
 "cells": [
  {
   "cell_type": "markdown",
   "id": "2942a7d3",
   "metadata": {},
   "source": [
    "# Circular vDAG Tutorial: A Deep Dive into AIOSv1 Policies\n",
    "\n",
    "### Introduction and Overview\n",
    "\n",
    "Welcome! This tutorial demonstrates how to build and run a sophisticated, circular vDAG using AIOSv1. We'll construct a multi-turn debate system featuring two debaters (A and B) and a judge. By the end of this video, you'll be able to build your own self-correcting, debating, or collaborative systems.\n",
    "\n",
    "**In this tutorial, your take away will be:**\n",
    "- How to implement a circular workflow using post-processing routing policies.\n",
    "- How to use a pre-processing policy to create and inject a \"running summary\" for long-term context.\n",
    "- How to deploy and manage the vDAG on a Kubernetes cluster.\n",
    "\n",
    "This directory contains local copies of all the policy and model inference code, and the vDAG itself is defined inline, making this a self-contained example.\n",
    "\n",
    "### Tutorial Overview\n",
    "1.  **What are Policies and Blocks in AIOSv1?**: Understand the core components that separate logic from inference.\n",
    "2.  **Implementation Deep Dive**: See the high-level architecture of our three-agent debate system.\n",
    "3.  **Code and Policies: A Closer Look**: Examine the local Python scripts that define our agent behaviors.\n",
    "4.  **Circular vDAG spec**: Review the declarative JSON that defines the vDAG structure.\n",
    "5.  **The Debate Flow and History**: Trace the data packets as they move between agents.\n",
    "6.  **Knobs to Tune for More Control**: Learn how to change the debate's behavior by adjusting policy parameters.\n",
    "7.  **Deploying and Managing the vDAG**: Use API calls to register and deploy the vDAG on a cluster.\n",
    "8.  **Running and Inspecting the Debate**: Trigger the debate with an inference call and see the results.\n",
    "9.  **Observing logs in K8s**: Monitor the real-time interaction between agents via Kubernetes logs.\n",
    "10. **Troubleshooting**: Get tips for debugging common issues in a circular vDAG.\n",
    "11. **Cleanup**: Learn how to properly remove the vDAG and its controller from the cluster."
   ]
  },
  {
   "cell_type": "markdown",
   "id": "a3ee1291-5b92-4d72-8424-b80f02e6104f",
   "metadata": {},
   "source": [
    "\n",
    "### 1.  What are Policies in AIOSv1?\n",
    "A policy is a dynamically loadable, executable Python code that is used in various places and use cases across the AIOS system. Since policies are dynamic, they allow developers to implement custom functionalities throughout the AIOS system. Below are some examples of polices used in AIOS that are relevant for this tutorial as well.\n",
    "- **Preprocessing Policies**: Modify incoming requests. In this tutorial, we use one to manage a conversation summary.\n",
    "- **Postprocessing Policies**: Modify outgoing responses. Here, we use them to route the conversation between debaters and the judge.\n",
    "\n",
    "> 📖 **Further Reading**: [AIOSv1 Policies System Overview](https://github.com/OpenCyberspace/OpenOS.AI-Documentation/blob/main/policies-system/policies-system.md)\n",
    "\n",
    "### What is a \"Block\" in AIOSv1?\n",
    "Block the core component AIOSv1 responsible for instantiating, serving, scaling and managing the AI inference or any general computational workload defined using AIOSv1 Instance SDK. In this tutorial, a \"block\" is the core component that executes your model code(e.g., running a Llama.cpp model) and has several policies associated with it. It is intentionally kept simple and focused on inference. The complex logic is offloaded to the policies that wrap it. A `block` can be composed of below policies apart from the other policies in the link below:\n",
    "1.  **Preprocessing Policy (Optional)**: Acts on the request before it hits your model.\n",
    "2.  **Inference Code**: The actual model execution.\n",
    "3.  **Postprocessing Policy (Optional)**: Acts on the response from your model.\n",
    "\n",
    "> 📖 **Further Reading**: [What is a Block?](https://github.com/OpenCyberspace/OpenOS.AI-Documentation/blob/main/block/block.md)"
   ]
  },
  {
   "cell_type": "markdown",
   "id": "7f272674",
   "metadata": {},
   "source": [
    "### 2. Implementation Deep Dive\n",
    "\n",
    "Here is a high-level overview of the components in our circular debate system.\n",
    "\n",
    "- **Preprocessing (Summarizer Policy)**\n",
    "  - Builds a per-session `recent_turns` window, summarizing the conversation periodically.\n",
    "  - This summary is then injected back into the prompt, giving the models long-term context.\n",
    "  - The summarization has its own knobs, like cadence (`summarize_every_n_messages`) and token thresholds (`min_tokens_for_summarization`).\n",
    "\n",
    "- **Debater Inference Code (`main_debate_simple.py`)**\n",
    "  - A simple inference wrapper with a fixed role (A or B) using AIOSv1's LLM SDK\n",
    "  - It constructs a prompt from the topic and the opponent's last turn.\n",
    "  - If a `running_summary` is available (from the preprocessor), it's injected as a system message.\n",
    "\n",
    "- **Debater Postprocessing (Router Policy)**\n",
    "  - This is where the core routing logic lives.\n",
    "  - It decides whether to send the response to the opponent or escalate to the judge based on a set of rules.\n",
    "  - For example, it uses `judge_interval_rounds` to escalate the debate to the judge every N rounds for a periodic review. It also uses `max_consec_by_same_role` as a safeguard to prevent one debater from dominating the conversation.\n",
    "\n",
    "- **Judge Inference Code (`main_judge_capped.py`)**\n",
    "  - Builds a prompt for the judge using the topic and the full recent history.\n",
    "  - The judge's job is to assess the state of the debate and decide whether it should continue or end.\n",
    "\n",
    "- **Judge Postprocessing (Router Policy)**\n",
    "  - Parses the judge's decision from the model's output. A `CONTINUE` decision routes the conversation back to one of the debaters, maintaining the circular flow. A `FINAL_JUDGMENT` decision terminates the vDAG execution.\n",
    "  - It also enforces global caps like `max_rounds` to ensure the debate eventually concludes, preventing infinite loops.\n",
    "\n",
    "- **Stopping Conditions**\n",
    "  - The debate ends when the Judge returns `FINAL_JUDGMENT` or when a hard cap (like `max_rounds`) is reached."
   ]
  },
  {
   "cell_type": "markdown",
   "id": "70ceeb02",
   "metadata": {},
   "source": [
    "### 3. Code and Policies: A Closer Look\n",
    "\n",
    "This tutorial is self-contained. All the code for the model inferences and policies is located in this directory for easy reference. The policies are assumed to be pre-registered with AIOS.\n",
    "\n",
    "#### Local Code and Policies\n",
    "- **Model Inference Code**:\n",
    "  - [Debater (`main_debate_simple.py`)] (./model_inference/main_debate_simple.py)\n",
    "  - [Judge (`main_judge_capped.py`)] (./model_inference/main_judge_capped.py)\n",
    "- **Policy Code**:\n",
    "  - [Preprocessing Summarizer](./policies/preprocessing_policy_for_summarization/)\n",
    "  - [Postprocessing Debater Router](./policies/postprocessing_policy_router_debater/)\n",
    "  - [Postprocessing Judge Router](./policies/postprocessing_policy_router_judge/)\n"
   ]
  },
  {
   "cell_type": "markdown",
   "id": "6db0fb40",
   "metadata": {},
   "source": [
    "#### A Note on the Inference Code and Policies\n",
    "\n",
    "It's important to understand how the inference code and policies collaborate.\n",
    "\n",
    "**Inference Code:** The Python scripts (`main_debate_simple.py` and `main_judge_capped.py`) are intentionally minimal. Their main job is to:\n",
    "1. Receive a request.\n",
    "2. Format a prompt based on the input data.\n",
    "3. Call the LLM for inference.\n",
    "4. Return the raw output.\n",
    "\n",
    "They use specific system messages to guide the behavior of the models:\n",
    "- **Judge System Message**: \n",
    "  ```\n",
    "  You are an impartial debate judge. You will be given TOPIC, ROUNDS, and the latest turns from A and B. Decide strictly by clarity, relevance to the topic/instruction, coherence, and factual plausibility. Return exactly: DECISION: CONTINUE_A|CONTINUE_B|FINAL_JUDGMENT If FINAL_JUDGMENT, also return:  WINNER: A|B|DRAW  REASON: <very short reason>  Output only the specified fields with no extra text.\n",
    "  ```\n",
    "- **Debater System Message**:\n",
    "  ```\n",
    "  You are a debate participant debater-A or role A in a router-orchestrated exchange. Provide a concise, on-topic argument that advances your side, directly addressing the latest message and also based on your past arguments. Do not declare a winner, do not judge, and do not ask who speaks next. Be specific, factual where possible, and avoid meta-comments or system/control tokens. Keep the response short and self-contained in 100 words.\n",
    "  ```\n",
    "\n",
    "**Policies Calling LLMs:** Policies can also execute their own inference calls. For instance, the **preprocessing summarizer** needs to can call an LLM to generate a summary. This is typically done by using a utility client within the policy code to call an \"external\" LLM service. This \"external\" service could even be another AIOS Block optimized for summarization. This powerful feature allows you to build complex, multi-model workflows where policies act as intelligent agents, preparing and routing data between different specialized models. One can even use the same models for summarization and review via rest or grpc calls."
   ]
  },
  {
   "cell_type": "markdown",
   "id": "37be3e6e-01ef-48fe-8262-aced59c5c570",
   "metadata": {},
   "source": [
    "### 4. Circular vDAG specification"
   ]
  },
  {
   "cell_type": "code",
   "execution_count": 80,
   "id": "1f474b69-6eb9-4752-9af3-b7a59f8b8e46",
   "metadata": {},
   "outputs": [],
   "source": [
    "\n",
    "# This Python dictionary defines the entire circular vDAG.\n",
    "# Notice how each node is a \"model_inference\" and specifies its pre- and post-processing policies.\n",
    "# The \"graph\" structure below defines the static connections between the nodes for the initial request. \n",
    "# However, the circular behavior (e.g., Debater -> Debater -> Judge -> Debater) is not defined here. \n",
    "# Instead, it is dynamically managed by the post-processing router policies, which decide where to send the packet next based on the rules we've defined.\n",
    "\n",
    "circular_vdag_spec = {\n",
    "  \"parser_version\": \"Parser/V1\",\n",
    "  \"body\": {\n",
    "    \"spec\": {\n",
    "      \"values\": {\n",
    "        \"vdagName\": \"llm-circular-vdag-demo-17\",\n",
    "        \"vdagVersion\": { \"version\": \"1.0.0\", \"release-tag\": \"stable\" },\n",
    "        \"discoveryTags\": [\"vdag-llm\",  \"circular-vdag\"],\n",
    "        \"controller\": {},\n",
    "        \"nodes\": [\n",
    "          {\n",
    "            \"spec\": {\n",
    "              \"values\": {\n",
    "                \"nodeLabel\": \"debater-A\",\n",
    "                \"nodeType\": \"block\",\n",
    "                \"manualBlockId\": \"llama4-scout-17b-block-circular\",\n",
    "                \"preprocessingPolicyRule\": {\"policyRuleURI\": \"preprocessing_policy_for_summarization:0.0.1-stable\"},\n",
    "                \"postprocessingPolicyRule\": {\"policyRuleURI\": \"postprocessing_policy_router_debater:0.0.1-stable\"},\n",
    "                \"modelParameters\": {}\n",
    "              },\n",
    "              \"IOMap\": [\n",
    "                {\n",
    "                  \"inputs\": [{ \"name\": \"input_0\", \"reference\": \"input_0\" }],\n",
    "                  \"outputs\": [{ \"name\": \"output_0\", \"reference\": \"output_0\" }]\n",
    "                }\n",
    "              ]\n",
    "            }\n",
    "          },\n",
    "          {\n",
    "            \"spec\": {\n",
    "              \"values\": {\n",
    "                \"nodeLabel\": \"debater-B\",\n",
    "                \"nodeType\": \"block\",\n",
    "                \"manualBlockId\": \"magistral-small-2506-llama-cpp-block-circular\",\n",
    "                \"preprocessingPolicyRule\": {\"policyRuleURI\": \"preprocessing_policy_for_summarization:0.0.1-stable\"},\n",
    "                \"postprocessingPolicyRule\": {\"policyRuleURI\": \"postprocessing_policy_router_debater:0.0.1-stable\"},\n",
    "                \"modelParameters\": {}\n",
    "              },\n",
    "              \"IOMap\": [\n",
    "                {\n",
    "                  \"inputs\": [{ \"name\": \"input_0\", \"reference\": \"input_0\" }],\n",
    "                  \"outputs\": [{ \"name\": \"output_0\", \"reference\": \"output_0\" }]\n",
    "                }\n",
    "              ]\n",
    "            }\n",
    "          },\n",
    "          {\n",
    "            \"spec\": {\n",
    "              \"values\": {\n",
    "                \"nodeLabel\": \"judge-llm\",\n",
    "                \"nodeType\": \"block\",\n",
    "                \"manualBlockId\": \"deepseek-r1-distill-70b-block-circular\",\n",
    "                \"preprocessingPolicyRule\": {\"policyRuleURI\": \"preprocessing_policy_for_summarization:0.0.1-stable\"},\n",
    "                \"postprocessingPolicyRule\": {\n",
    "                  \"policyRuleURI\": \"postprocessing_policy_router_judge:0.0.1-stable\"\n",
    "                },\n",
    "                \"modelParameters\": {}\n",
    "              },\n",
    "              \"IOMap\": [\n",
    "                {\n",
    "                  \"inputs\": [{ \"name\": \"input_0\", \"reference\": \"input_0\" }],\n",
    "                  \"outputs\": [{ \"name\": \"output_0\", \"reference\": \"output_0\" }]\n",
    "                }\n",
    "              ]\n",
    "            }\n",
    "          }\n",
    "        ],\n",
    "        \"graph\": {\n",
    "                \"input\": [\n",
    "                    {\n",
    "                        \"nodeLabel\": \"debater-A\",\n",
    "                        \"inputNames\": [\n",
    "                            \"input_0\"\n",
    "                        ]\n",
    "                    }\n",
    "                ],\n",
    "                \"connections\": [\n",
    "                    {\n",
    "                        \"nodeLabel\": \"debater-B\",\n",
    "                        \"inputs\": [\n",
    "                            {\n",
    "                                \"nodeLabel\": \"debater-A\",\n",
    "                                \"outputNames\": [\n",
    "                                    \"output_0\"\n",
    "                                ]\n",
    "                            }\n",
    "                        ]\n",
    "                    },\n",
    "                    {\n",
    "                        \"nodeLabel\": \"judge-llm\",\n",
    "                        \"inputs\": [\n",
    "                            {\n",
    "                                \"nodeLabel\": \"debater-B\",\n",
    "                                \"outputNames\": [\n",
    "                                    \"output_0\"\n",
    "                                ]\n",
    "                            }\n",
    "                        ]\n",
    "                    }\n",
    "                ],\n",
    "                \"output\": [\n",
    "                    {\n",
    "                        \"nodeLabel\": \"judge-llm\",\n",
    "                        \"outputNames\": [\n",
    "                            \"output_0\"\n",
    "                        ]\n",
    "                    }\n",
    "                ]\n",
    "            }\n",
    "      }\n",
    "    }\n",
    "  }\n",
    "}"
   ]
  },
  {
   "cell_type": "markdown",
   "id": "b84d5c3d",
   "metadata": {},
   "source": [
    "### 5. The Debate Flow and History\n",
    "\n",
    "The data packets flowing between the model_inferences have a canonical schema enforced by the policies. This ensures that each component gets the information it needs in a predictable format.\n",
    "\n",
    "#### Canonical Packet Examples\n",
    "\n",
    "**Debater model_inference → Debater Router**\n",
    "The model output is simple. The router will use this to construct the next packet.\n",
    "```json\n",
    "{\n",
    "  \"reply\": \"Opening argument...\",\n",
    "  \"prev_role\": \"A\",\n",
    "  \"topic\": \"Is remote work more productive?\",\n",
    "  \"session_id\": \"debate_207\",\n",
    "  \"router_meta\": {\n",
    "    \"running_summary\": \"...\",\n",
    "    \"recent_turns\": [{\"role\":\"A\",\"reply\":\"Opening argument...\"}]\n",
    "  }\n",
    "}\n",
    "```\n",
    "\n",
    "**Debater Router → Opponent**\n",
    "The router transforms the packet into the canonical format for the next debater.\n",
    "```json\n",
    "{\n",
    "  \"prev_turn_text\": \"Opening argument...\",\n",
    "  \"prev_turn_role\": \"A\",\n",
    "  \"receiver_role\": \"B\",\n",
    "  \"topic\": \"Is remote work more productive?\",\n",
    "  \"session_id\": \"debate_207\",\n",
    "  \"router_meta\": {\"recent_turns\": [{\"role\":\"A\",\"text\":\"Opening argument...\"}]}\n",
    "}\n",
    "```\n",
    "\n",
    "**Debater Router → Judge (on escalation)**\n",
    "When it's time for the judge to review, the packet contains the history needed to make a decision.\n",
    "```json\n",
    "{\n",
    "  \"topic\": \"Is remote work more productive?\",\n",
    "  \"session_id\": \"debate_207\",\n",
    "  \"router_meta\": {\"router_counts\": {\"A\": 2, \"B\": 2}, \"recent_turns\": [/* ... */]}\n",
    "}\n",
    "```\n",
    "\n",
    "**Judge model_inference → Judge Router**\n",
    "The judge outputs a decision, which the judge's router will interpret.\n",
    "```json\n",
    "{\n",
    "  \"judge_text\": \"... DECISION: CONTINUE_A\",\n",
    "  \"opponent_last\": \"...\",\n",
    "  \"bump_round\": true,\n",
    "  \"topic\": \"Is remote work more productive?\",\n",
    "  \"session_id\": \"debate_207\",\n",
    "  \"router_meta\": {\"router_counts\": {\"A\": 2, \"B\": 2}, \"recent_turns\": [/* ... */]}\n",
    "}\n",
    "```\n",
    "\n",
    "**Judge Router → A/B (on continue)**\n",
    "If the judge decides to continue, the router sends a packet to the appropriate debater.\n",
    "```json\n",
    "{\n",
    "  \"prev_turn_text\": \"Opponent last reply...\",\n",
    "  \"prev_turn_role\": \"B\",\n",
    "  \"receiver_role\": \"A\",\n",
    "  \"topic\": \"Is remote work more productive?\",\n",
    "  \"session_id\": \"debate_207\"\n",
    "}\n",
    "```"
   ]
  },
  {
   "cell_type": "markdown",
   "id": "53df91ea",
   "metadata": {},
   "source": [
    "### 6. Knobs to Tune for More Control\n",
    "\n",
    "The behavior of the debate is controlled by parameters compiled into the policies. You can adjust these to change the dynamics of the conversation.\n",
    "\n",
    "- **Preprocessing Summarizer (`preprocessing_policy_for_summarization:0.0.1-stable`)**\n",
    "  - `summarize_every_n_messages` (default 3): Controls the frequency of summarization. A lower number means more frequent summaries, which provides better context but increases computational overhead.\n",
    "  - `history_max_messages` (default 3): Defines the size of the sliding window of conversation turns used for the summary. A larger window provides more context to the summarizer model.\n",
    "  - `min_tokens_for_summarization` (default 300): A gate to prevent summarizing very short exchanges, saving resources.\n",
    "  - `include_last_summary_in_prompt` (true): Enables chained summaries, where the previous summary is included in the prompt for the next one, creating a continuous thread of context.\n",
    "\n",
    "- **Debater Router (`postprocessing_policy_router_debater:0.0.1-stable`)**\n",
    "  - `review_threshold` (default 0.5): An optional quality gate. If the model output includes a confidence score, the router can use this threshold to decide whether to accept the response or retry. (Note: This is not used in the current simple debater).\n",
    "  - `judge_interval_rounds` (default 4): Sets the cadence for periodic review by the judge. After this many rounds, the debate is automatically escalated to the judge.\n",
    "  - `max_consec_by_same_role` (default 3): A safety measure to prevent one debater from making multiple consecutive arguments, ensuring a balanced conversation.\n",
    "\n",
    "- **Judge Router (`postprocessing_policy_router_judge:0.0.1-stable`)**\n",
    "  - `max_rounds` (default 20): A hard cap on the total number of rounds in the debate. This acts as a failsafe to prevent infinite loops and control costs.\n",
    "  - `judge_continue_cap` (default 5): Limits the number of times the judge can return a `CONTINUE` decision. After this cap is reached, the judge is forced to make a `FINAL_JUDGMENT`, ensuring the debate concludes.\n",
    "\n",
    "Tip: Watch the pod logs to see the exact prompts being constructed, especially when summaries are used."
   ]
  },
  {
   "cell_type": "markdown",
   "id": "6c8e7775-1c79-4c0c-8e86-31da19531313",
   "metadata": {},
   "source": [
    "### 7. Deploying and Managing the vDAG"
   ]
  },
  {
   "cell_type": "markdown",
   "id": "08662f29-17b3-42e2-b6e3-d9a96ea718c9",
   "metadata": {},
   "source": [
    "The following commands show how to register the vDAG, create a controller, and run inference.\n",
    "#### Note: Adjust the IP addresses to match your cluster's endpoints."
   ]
  },
  {
   "cell_type": "markdown",
   "id": "5d0836ca-7e8c-483b-98b8-65ab301191db",
   "metadata": {},
   "source": [
    "### a. Create the vDAG with the AIOS createvDAG Endpoint"
   ]
  },
  {
   "cell_type": "code",
   "execution_count": null,
   "id": "43848164-3736-4227-b131-272de6cd392f",
   "metadata": {},
   "outputs": [
    {
     "name": "stdout",
     "output_type": "stream",
     "text": [
      "Parser Response Status: 200\n",
      "Parser Response Body: {'result': {'task_id': 'a572ebf5-2220-43ed-87be-7df0dd397e37', 'vdagURI': 'llm-circular-vdag-demo-17:1.0.0-stable'}, 'success': True, 'task_id': ''}\n"
     ]
    }
   ],
   "source": [
    "\n",
    "import requests\n",
    "createvDAG_URL = \"http://MANAGEMENTMASTER:30501/api/createvDAG\"\n",
    "response = requests.post(createvDAG_URL, json=circular_vdag_spec)\n",
    "print(f\"Parser Response Status: {response.status_code}\")\n",
    "print('Parser Response Body:', response.json())"
   ]
  },
  {
   "cell_type": "markdown",
   "id": "896efdd4-c550-4af3-8480-87615f937cb0",
   "metadata": {},
   "source": [
    "### b. Verify the vDAG is registered"
   ]
  },
  {
   "cell_type": "code",
   "execution_count": null,
   "id": "85bb5f4e-5365-4be1-90ca-b9611a8e1a56",
   "metadata": {
    "scrolled": true
   },
   "outputs": [
    {
     "name": "stdout",
     "output_type": "stream",
     "text": [
      "  % Total    % Received % Xferd  Average Speed   Time    Time     Time  Current\n",
      "                                 Dload  Upload   Total   Spent    Left  Speed\n",
      "100  3226  100  3226    0     0   499k      0 --:--:-- --:--:-- --:--:--  525k\n",
      "{\n",
      "   \"data\" : {\n",
      "      \"assignment_info\" : {\n",
      "         \"debater-A\" : \"llama4-scout-17b-block-circular\",\n",
      "         \"debater-B\" : \"magistral-small-2506-llama-cpp-block-circular\",\n",
      "         \"judge-llm\" : \"deepseek-r1-distill-70b-block-circular\"\n",
      "      },\n",
      "      \"compiled_graph_data\" : {\n",
      "         \"head\" : \"llama4-scout-17b-block-circular\",\n",
      "         \"rev_mapping\" : {\n",
      "            \"deepseek-r1-distill-70b-block-circular\" : \"judge-llm\",\n",
      "            \"llama4-scout-17b-block-circular\" : \"debater-A\",\n",
      "            \"magistral-small-2506-llama-cpp-block-circular\" : \"debater-B\"\n",
      "         },\n",
      "         \"t2_graph\" : {\n",
      "            \"deepseek-r1-distill-70b-block-circular\" : [],\n",
      "            \"llama4-scout-17b-block-circular\" : [\n",
      "               \"magistral-small-2506-llama-cpp-block-circular\"\n",
      "            ],\n",
      "            \"magistral-small-2506-llama-cpp-block-circular\" : [\n",
      "               \"deepseek-r1-distill-70b-block-circular\"\n",
      "            ]\n",
      "         },\n",
      "         \"t3_graph\" : {\n",
      "            \"deepseek-r1-distill-70b-block-circular\" : {\n",
      "               \"outputs\" : []\n",
      "            },\n",
      "            \"llama4-scout-17b-block-circular\" : {\n",
      "               \"outputs\" : [\n",
      "                  {\n",
      "                     \"block_id\" : \"magistral-small-2506-llama-cpp-block-circular\",\n",
      "                     \"host\" : \"magistral-small-2506-llama-cpp-block-circular-executor-svc.blocks.svc.cluster.local\",\n",
      "                     \"port\" : 6379,\n",
      "                     \"queue_name\" : \"magistral-small-2506-llama-cpp-block-circular_inputs\"\n",
      "                  }\n",
      "               ]\n",
      "            },\n",
      "            \"magistral-small-2506-llama-cpp-block-circular\" : {\n",
      "               \"outputs\" : [\n",
      "                  {\n",
      "                     \"block_id\" : \"deepseek-r1-distill-70b-block-circular\",\n",
      "                     \"host\" : \"deepseek-r1-distill-70b-block-circular-executor-svc.blocks.svc.cluster.local\",\n",
      "                     \"port\" : 6379,\n",
      "                     \"queue_name\" : \"deepseek-r1-distill-70b-block-circular_inputs\"\n",
      "                  }\n",
      "               ]\n",
      "            }\n",
      "         },\n",
      "         \"tail\" : [\n",
      "            \"deepseek-r1-distill-70b-block-circular\"\n",
      "         ]\n",
      "      },\n",
      "      \"controller\" : {\n",
      "         \"initParameters\" : {},\n",
      "         \"initSettings\" : {},\n",
      "         \"inputSources\" : [],\n",
      "         \"policies\" : []\n",
      "      },\n",
      "      \"discoveryTags\" : [\n",
      "         \"vdag-llm\",\n",
      "         \"circular-vdag\"\n",
      "      ],\n",
      "      \"graph\" : {\n",
      "         \"connections\" : [\n",
      "            {\n",
      "               \"inputs\" : [\n",
      "                  {\n",
      "                     \"nodeLabel\" : \"debater-A\",\n",
      "                     \"outputNames\" : [\n",
      "                        \"output_0\"\n",
      "                     ]\n",
      "                  }\n",
      "               ],\n",
      "               \"nodeLabel\" : \"debater-B\"\n",
      "            },\n",
      "            {\n",
      "               \"inputs\" : [\n",
      "                  {\n",
      "                     \"nodeLabel\" : \"debater-B\",\n",
      "                     \"outputNames\" : [\n",
      "                        \"output_0\"\n",
      "                     ]\n",
      "                  }\n",
      "               ],\n",
      "               \"nodeLabel\" : \"judge-llm\"\n",
      "            }\n",
      "         ],\n",
      "         \"input\" : [\n",
      "            {\n",
      "               \"inputNames\" : [\n",
      "                  \"input_0\"\n",
      "               ],\n",
      "               \"nodeLabel\" : \"debater-A\"\n",
      "            }\n",
      "         ],\n",
      "         \"output\" : [\n",
      "            {\n",
      "               \"nodeLabel\" : \"judge-llm\",\n",
      "               \"outputNames\" : [\n",
      "                  \"output_0\"\n",
      "               ]\n",
      "            }\n",
      "         ]\n",
      "      },\n",
      "      \"metadata\" : {},\n",
      "      \"nodes\" : [\n",
      "         {\n",
      "            \"IOMap\" : [],\n",
      "            \"assignmentPolicyRule\" : {},\n",
      "            \"inputProtocol\" : {},\n",
      "            \"manualBlockId\" : \"llama4-scout-17b-block-circular\",\n",
      "            \"modelParameters\" : {},\n",
      "            \"nodeLabel\" : \"debater-A\",\n",
      "            \"nodeType\" : \"block\",\n",
      "            \"outputProtocol\" : {},\n",
      "            \"postprocessingPolicyRule\" : {\n",
      "               \"policyRuleURI\" : \"postprocessing_policy_router_debater:0.0.1-stable\"\n",
      "            },\n",
      "            \"preprocessingPolicyRule\" : {\n",
      "               \"policyRuleURI\" : \"preprocessing_policy_for_summarization:0.0.1-stable\"\n",
      "            },\n",
      "            \"vdagURI\" : \"\"\n",
      "         },\n",
      "         {\n",
      "            \"IOMap\" : [],\n",
      "            \"assignmentPolicyRule\" : {},\n",
      "            \"inputProtocol\" : {},\n",
      "            \"manualBlockId\" : \"magistral-small-2506-llama-cpp-block-circular\",\n",
      "            \"modelParameters\" : {},\n",
      "            \"nodeLabel\" : \"debater-B\",\n",
      "            \"nodeType\" : \"block\",\n",
      "            \"outputProtocol\" : {},\n",
      "            \"postprocessingPolicyRule\" : {\n",
      "               \"policyRuleURI\" : \"postprocessing_policy_router_debater:0.0.1-stable\"\n",
      "            },\n",
      "            \"preprocessingPolicyRule\" : {\n",
      "               \"policyRuleURI\" : \"preprocessing_policy_for_summarization:0.0.1-stable\"\n",
      "            },\n",
      "            \"vdagURI\" : \"\"\n",
      "         },\n",
      "         {\n",
      "            \"IOMap\" : [],\n",
      "            \"assignmentPolicyRule\" : {},\n",
      "            \"inputProtocol\" : {},\n",
      "            \"manualBlockId\" : \"deepseek-r1-distill-70b-block-circular\",\n",
      "            \"modelParameters\" : {},\n",
      "            \"nodeLabel\" : \"judge-llm\",\n",
      "            \"nodeType\" : \"block\",\n",
      "            \"outputProtocol\" : {},\n",
      "            \"postprocessingPolicyRule\" : {\n",
      "               \"policyRuleURI\" : \"postprocessing_policy_router_judge:0.0.1-stable\"\n",
      "            },\n",
      "            \"preprocessingPolicyRule\" : {\n",
      "               \"policyRuleURI\" : \"preprocessing_policy_for_summarization:0.0.1-stable\"\n",
      "            },\n",
      "            \"vdagURI\" : \"\"\n",
      "         }\n",
      "      ],\n",
      "      \"status\" : \"assigned\",\n",
      "      \"vdagURI\" : \"llm-circular-vdag-demo-17:1.0.0-stable\",\n",
      "      \"vdag_name\" : \"llm-circular-vdag-demo-17\",\n",
      "      \"vdag_version\" : {\n",
      "         \"release-tag\" : \"stable\",\n",
      "         \"version\" : \"1.0.0\"\n",
      "      }\n",
      "   },\n",
      "   \"success\" : true\n",
      "}\n"
     ]
    }
   ],
   "source": [
    "\n",
    "!curl -X GET http://MANAGEMENTMASTER:30103/vdag/llm-circular-vdag-demo-17:1.0.0-stable | json_pp"
   ]
  },
  {
   "cell_type": "code",
   "execution_count": null,
   "id": "31900f50-1e98-4b6b-9dc6-c4cbdb89135b",
   "metadata": {},
   "outputs": [],
   "source": [
    "http://MANAGEMENTMASTER:30201/block/health/llama4-scout-17b-block-circular\n",
    "http://MANAGEMENTMASTER:30201/block/health/magistral-small-2506-llama-cpp-block-circular\n",
    "http://MANAGEMENTMASTER:30201/block/health/deepseek-r1-distill-70b-block-circular"
   ]
  },
  {
   "cell_type": "code",
   "execution_count": null,
   "id": "11602ed7-2ae1-426a-983e-41c6736b2a97",
   "metadata": {},
   "outputs": [],
   "source": []
  },
  {
   "cell_type": "markdown",
   "id": "3be1c993-2af2-4cca-a157-fa44e12bdede",
   "metadata": {},
   "source": [
    "### c. Create a vDAG Controller to deploy the pipeline\n"
   ]
  },
  {
   "cell_type": "markdown",
   "id": "51bd1a27-7289-488b-8278-9ca9ff83ad6f",
   "metadata": {},
   "source": [
    "This command tells AIOS to use the necessary blocks that are already up for our vDAG. For more information check [vdag controller](https://docs.aigr.id/vdag-controller/vdag-controller/)"
   ]
  },
  {
   "cell_type": "code",
   "execution_count": null,
   "id": "b33467b2-8cc4-42ef-a587-d0a2dfc8570c",
   "metadata": {},
   "outputs": [
    {
     "name": "stderr",
     "output_type": "stream",
     "text": [
      "  % Total    % Received % Xferd  Average Speed   Time    Time     Time  Current\n",
      "                                 Dload  Upload   Total   Spent    Left  Speed\n",
      "100   354  100    58  100   296    557   2844 --:--:-- --:--:-- --:--:--  3403\n"
     ]
    },
    {
     "name": "stdout",
     "output_type": "stream",
     "text": [
      "{\"data\":\"Controller created successfully\",\"success\":true}\n"
     ]
    }
   ],
   "source": [
    "\n",
    "%%bash\n",
    "curl -X POST http://MANAGEMENTMASTER:30600/vdag-controller/gcp-cluster-2 \\\n",
    "  -H \"Content-Type: application/json\" \\\n",
    "  -d '{\n",
    "    \"action\": \"create_controller\",\n",
    "    \"payload\": {\n",
    "      \"vdag_controller_id\": \"llm-circular-vdag-demo-17\", \n",
    "      \"vdag_uri\": \"llm-circular-vdag-demo-17:1.0.0-stable\",\n",
    "      \"config\": {\n",
    "        \"policy_execution_mode\": \"local\",\n",
    "        \"replicas\": 1\n",
    "      },\n",
    "      \"search_tags\": []\n",
    "    }\n",
    "  }'"
   ]
  },
  {
   "cell_type": "markdown",
   "id": "a7f95492-509d-43b3-bedc-330003a3e6f0",
   "metadata": {},
   "source": [
    "### d. Get the controller details"
   ]
  },
  {
   "cell_type": "code",
   "execution_count": null,
   "id": "e6de1f8f-f125-434c-8cf8-a1d929fb5fbf",
   "metadata": {},
   "outputs": [],
   "source": [
    "\n",
    "!curl -X GET http://MANAGEMENTMASTER:30103/vdag-controller/llm-circular-vdag-demo-17 | json_pp"
   ]
  },
  {
   "cell_type": "markdown",
   "id": "91a27952",
   "metadata": {},
   "source": [
    "### 8. Running and Inspecting the Debate\n",
    "\n",
    "Once the controller is active, you can start a debate by sending a request to the first model_inference in the chain (`debater-A`).\n",
    "\n",
    "1.  **Trigger the first turn**: Post to the `v1/infer` endpoint with a `session_id` and `topic`.\n",
    "2.  **Observe the logs**: The most valuable insights come from watching the logs of the pods.\n",
    "    - Look for the summarizer's output when it fires.\n",
    "    - Inspect the debater and judge prompts, which are logged in detail."
   ]
  },
  {
   "cell_type": "code",
   "execution_count": null,
   "id": "57a719e6",
   "metadata": {},
   "outputs": [
    {
     "name": "stdout",
     "output_type": "stream",
     "text": [
      "Inference request successful. The raw JSON output is stored in 'debate_output'.\n"
     ]
    }
   ],
   "source": [
    "import requests\n",
    "import json\n",
    "\n",
    "# Example: Start a debate on remote work\n",
    "# We make the request directly in Python to avoid shell escaping issues.\n",
    "INFERENCE_URL = \"http://CLUSTER1MASTER:32647/v1/infer\"\n",
    "debate_payload = {\n",
    "    \"model\": \"llama4-scout-17b-block-circular\",\n",
    "    \"session_id\": \"debate_220\",\n",
    "    \"seq_no\": 1,\n",
    "    \"data\": {\n",
    "        \"mode\": \"chat\",\n",
    "        \"message\": \"Please begin with your opening.\",\n",
    "        # \"session_id\": \"debate_212\",\n",
    "        # \"topic\": \"Debate for atleast 20 rounds,Propose a chain-snatching action recognition system from traffic CCTV, integrating detector+tracker+temporal model; target ≥0.85 F1 with FPPI ≤0.05/hr; include dataset plan and domain adaptation.?\"\n",
    "        \"topic\": \"Debate for atleast 20 rounds,Design an end-to-end real-time computer vision pipeline for multi-camera loitering and chain-snatching detection in urban CCTV. Constraints: 1080p@15–25 FPS, ≤300 ms alert latency, ≥90% recall at FPPI ≤0.1/hr/camera, 200 cameras on mixed Jetson Orin/T4 edge nodes, intermittent connectivity. Specify: detection (persons/riders/hand–object), MOT + re-ID, dwell-time estimation, action recognition, geo-fencing, alerting; model choices (e.g., RT-DETR/YOLOv8 vs lightweight MobileNet-SSD), trackers (ByteTrack/OC-SORT), re-ID (FastReID), temporal models; data/labeling plan and hard-negative mining; robustness (night/rain/occlusion/domain shift); privacy (on-device blur/redaction) and bias checks; monitoring/drift/A/B; throughput and GPU/CPU/power budgets; accuracy–latency trade-offs and fallback modes.Propose an evaluation plan and benchmarks (mAP, IDF1, FPPI, E2E latency) plus synthetic stress tests (night/rain/crowds) for the above pipelines; include A/B and rollout strategy.\"\n",
    "    },\n",
    "    \"graph\": {},\n",
    "    \"selection_query\": {}\n",
    "}\n",
    "\n",
    "debate_output = None\n",
    "try:\n",
    "    response = requests.post(INFERENCE_URL, json=debate_payload, timeout=600) # Added a long timeout for long debates\n",
    "    response.raise_for_status()\n",
    "    debate_output = response.json()\n",
    "    print(\"Inference request successful. The raw JSON output is stored in 'debate_output'.\")\n",
    "except requests.exceptions.RequestException as e:\n",
    "    print(f\"Failed to get response from inference service: {e}\")\n",
    "except json.JSONDecodeError:\n",
    "    print(\"Failed to parse JSON from response. Raw text:\")\n",
    "    print(response.text)"
   ]
  },
  {
   "cell_type": "code",
   "execution_count": 100,
   "id": "824b5eec-99c7-4441-843c-f6ffb58ebe45",
   "metadata": {},
   "outputs": [
    {
     "name": "stdout",
     "output_type": "stream",
     "text": [
      "{'data': {'bump_round': True, 'judge_text': \"Alright, so I'm trying to design an end-to-end real-time computer vision pipeline for detecting loitering and chain-snatching incidents using urban CCTV cameras. The constraints are pretty tight: 1080p resolution at 15–25 FPS, maximum alert latency of 300 ms, and a high recall rate of at least 90% with a low false positive rate (FPPI ≤0.1/hr/camera). Plus, I have to handle 200 cameras on a mix of Jetson Orin and T4 edge nodes, which means I need to be mindful of computational resources and potential connectivity issues.\\n\\nFirst, I need to break down the problem into manageable components. The pipeline should include detection of persons, riders, and hand-object interactions, multi-object tracking (MOT) with re-identification (re-ID), dwell-time estimation, action recognition, geo-fencing, and alerting. Each of these components will require careful selection of models and algorithms to meet the performance and latency constraints.\\n\\nFor detection, I'm considering models like RT-DETR and YOLOv8. RT-DETR is known for its accuracy, especially in detecting small objects, which is crucial for identifying something like a chain being snatched. However, YOLOv8 might offer better speed, which is essential for real-time processing. I need to weigh the trade-offs between accuracy and speed here.\\n\\nNext, for MOT, options like ByteTrack and OC-SORT come to mind. ByteTrack is lightweight and efficient, which is great for edge devices, but OC-SORT might handle crowded scenes better, which is common in urban areas. I need to think about which is more critical: handling crowds or keeping the computational load low.\\n\\nRe-ID is another important aspect. FastReID is a solid choice, but I might need a lightweight version to ensure it doesn't bog down the system. Maybe a distilled version could maintain accuracy while reducing computational demands.\\n\\nDwell-time estimation can be approached with a Kalman filter or a Gaussian process. Kalman filters are computationally efficient, which is a plus for edge devices, but Gaussian processes might offer better accuracy, which could be critical for correctly identifying loitering behavior.\\n\\nAction recognition is where I'm a bit stuck. A Graph Convolutional Network (GCN) could model complex interactions between objects, which might be beneficial for understanding the dynamics of a chain-snatching incident. On the other hand, a lightweight 3D CNN could process spatial and temporal features simultaneously, which is advantageous for real-time action recognition.\\n\\nGeo-fencing and alerting need to be integrated seamlessly. I should consider how to define geo-fences and ensure that alerts are generated and transmitted efficiently, especially with intermittent connectivity.\\n\\nRobustness is a big concern. The system needs to handle various environmental conditions like night, rain, and occlusions. Techniques like data augmentation, hard-negative mining, domain adaptation, and adversarial training could help improve robustness. Privacy is another aspect; on-device blurring or redaction will be necessary to protect individuals' privacy.\\n\\nMonitoring for drift and bias is essential. I need to implement checks to ensure the system doesn't develop biases over time and that its performance doesn't degrade due to concept drift. A/B testing could help compare different model configurations and ensure the system remains accurate and reliable.\\n\\nIn terms of evaluation, I'll need to use metrics like mAP, IDF1, FPPI, and E2E latency to assess the system's performance comprehensively. Synthetic stress tests simulating night, rain, and crowded conditions will help validate the system's robustness in challenging scenarios.\\n\\nThe rollout strategy should be phased, starting with a small-scale deployment to test the system in real-world conditions before scaling up to all 200 cameras. This approach will help identify and address any issues early on.\\n\\nOverall, I'm leaning towards using YOLOv8 for detection due to its speed-accuracy balance, OC-SORT for MOT in crowded areas, a lightweight 3D CNN for action recognition to handle real-time processing, and a Kalman filter for dwell-time estimation to keep things efficient on edge devices. I'll also prioritize domain adaptation and adversarial training for robustness and ensure privacy measures are in place. The evaluation plan will focus on both accuracy and latency metrics, with thorough stress testing to ensure reliability under various conditions.\\n</think>\\n\\nDECISION: FINAL_JUDGMENT  \\nWINNER: B  \\nREASON: B's pipeline offers a better balance of speed and accuracy, crucial for real-time processing, with efficient models like YOLOv8 and OC-SORT, and robust techniques for action recognition and dwell-time estimation.\", 'opponent_last': '', 'router_meta': {'recent_turns': [{'reply': 'I propose a multi-stage chain-snatching action recognition system from traffic CCTV footage. The system integrates a detector, tracker, and temporal model to accurately identify and classify chain-snatching incidents. The detector, based on YOLOv4, will identify potential chain-snatching events. The tracker, utilizing DeepSORT, will then track the movement of individuals involved. A temporal model, such as a Graph Convolutional Network (GCN), will analyze the tracked sequences to recognize the chain-snatching action. Our goal is to achieve ≥0.85 F1 score with ≤0.05/hr FPPI. We plan to use a dataset of 10,000 annotated CCTV clips and apply domain adaptation techniques, such as adversarial training.', 'role': 'A'}, {'reply': 'I agree on the multi-stage approach, but propose a more robust system. Instead of YOLOv4, I suggest using CenterNet for the detector due to its superior performance in detecting small objects, which is crucial for chain-snatching incidents where the chain is often small and fast-moving. For the tracker, I recommend using FairMOT, which has shown excellent performance in crowded scenes, a common scenario in traffic CCTV footage. The temporal model should be a 3D CNN, which is better suited for action recognition than GCN. Our dataset should include 15,000 annotated clips to ensure diversity and robustness. Domain adaptation should involve style transfer and adversarial training to handle variations in lighting and camera angles.', 'role': 'B'}, {'reply': \"For real-time multi-camera loitering and chain-snatching detection, I propose a pipeline integrating RT-DETR for detection, ByteTrack for MOT, and a temporal model for action recognition. For re-ID, I suggest using FastReID. To meet constraints, we'll use Jetson Orin for compute-intensive tasks and T4 for others. Our detection model will identify persons, riders, and hand-object interactions. Dwell-time estimation will be based on tracked trajectories. Geo-fencing and alerting will be implemented using a separate module. To ensure robustness, we'll use data augmentation, hard-negative mining, and domain adaptation. For privacy, on-device blur/redaction will be applied. Evaluation will include mAP, IDF1, FPPI, and E2E latency benchmarks, with synthetic stress tests for night, rain, and crowds. A/B testing and monitoring will ensure accuracy and drift detection.\", 'role': 'A'}, {'reply': \"I propose a more efficient pipeline using YOLOv8 for detection, OC-SORT for MOT, and a lightweight 3D CNN for action recognition. YOLOv8 offers better speed-accuracy trade-offs than RT-DETR, crucial for real-time processing. OC-SORT is more robust in crowded scenes than ByteTrack. For re-ID, I suggest using a lightweight version of FastReID to reduce computational load. To meet constraints, we'll distribute tasks across Jetson Orin and T4 nodes based on their compute capabilities. Dwell-time estimation will be done using a Kalman filter for smoother trajectories. Geo-fencing and alerting will be integrated into the pipeline for efficiency. For robustness, we'll use a combination of data augmentation, hard-negative mining, and adversarial training. Evaluation will include mAP, IDF1, FPPI, and E2E latency benchmarks, with synthetic stress tests for night, rain, and crowds. A/B testing and monitoring will ensure accuracy and drift detection.\", 'role': 'B'}, {'reply': 'I agree on using YOLOv8 and OC-SORT, but argue that a Graph Convolutional Network (GCN) is more suitable for action recognition than a 3D CNN, as it can model complex interactions between objects. For dwell-time estimation, I suggest using a more accurate method, such as a Gaussian process, instead of a Kalman filter. To ensure robustness, I recommend incorporating additional techniques, such as domain adaptation and style transfer, to handle variations in lighting and camera angles. Our evaluation plan should prioritize recall and FPPI metrics, as false negatives and positives have significant consequences in loitering and chain-snatching detection.', 'role': 'A'}, {'reply': 'While GCNs can model complex interactions, 3D CNNs are more efficient for action recognition in real-time systems, as they process temporal and spatial features simultaneously. For dwell-time estimation, Kalman filters are computationally lighter and more suitable for edge devices like Jetson Orin/T4, ensuring lower latency. Domain adaptation and style transfer are valuable, but adversarial training provides better robustness against adversarial attacks and domain shifts. Our evaluation plan should also prioritize E2E latency and IDF1, as they are crucial for real-time performance and tracking accuracy.', 'role': 'B'}], 'router_counts': {'B': 3}, 'running_summary': '- A: Proposes a multi-stage system for real-time chain-snatching and loitering detection using RT-DETR for detection, ByteTrack for MOT, and a temporal model for action recognition. Recommends RT-DETR for detection, ByteTrack for tracking, and a temporal model for action recognition. Suggests using Jetson Orin and T4 for compute distribution, FastReID for re-ID, and Gaussian process for dwell-time estimation. Emphasizes robustness through data augmentation, domain adaptation, and style transfer. Evaluation includes mAP, IDF1, FPPI, and E2E latency, with synthetic stress tests and A/B testing.\\n- B: Proposes a more efficient pipeline using YOLOv8 for detection, OC-SORT for MOT, and a lightweight 3D CNN for action recognition. Advocates for YOLOv8 and OC-SORT for better speed-accuracy trade-offs and robustness in crowded scenes. Recommends a lightweight FastReID for re-ID and a Kalman filter for dwell-time estimation. Suggests domain adaptation, adversarial training, and synthetic stress tests for robustness. Evaluation includes mAP, IDF1, FPPI, and E2E latency, with A/B testing and monitoring.\\n\\nBoth A and B agree on using YOLOv8 and OC-SORT for real-time efficiency and robustness, but differ on the choice of action recognition model (GCN vs. 3D CNN) and dwell-time estimation method (Gaussian process vs. Kalman filter). Both emphasize domain adaptation and comprehensive evaluation metrics.'}, 'session_id': 'vdag::llm-circular-vdag-demo-17:1.0.0-stable::debate_220', 'topic': 'Debate for atleast 20 rounds,Design an end-to-end real-time computer vision pipeline for multi-camera loitering and chain-snatching detection in urban CCTV. Constraints: 1080p@15–25 FPS, ≤300 ms alert latency, ≥90% recall at FPPI ≤0.1/hr/camera, 200 cameras on mixed Jetson Orin/T4 edge nodes, intermittent connectivity. Specify: detection (persons/riders/hand–object), MOT + re-ID, dwell-time estimation, action recognition, geo-fencing, alerting; model choices (e.g., RT-DETR/YOLOv8 vs lightweight MobileNet-SSD), trackers (ByteTrack/OC-SORT), re-ID (FastReID), temporal models; data/labeling plan and hard-negative mining; robustness (night/rain/occlusion/domain shift); privacy (on-device blur/redaction) and bias checks; monitoring/drift/A/B; throughput and GPU/CPU/power budgets; accuracy–latency trade-offs and fallback modes.Propose an evaluation plan and benchmarks (mAP, IDF1, FPPI, E2E latency) plus synthetic stress tests (night/rain/crowds) for the above pipelines; include A/B and rollout strategy.'}, 'seq_no': 1, 'session_id': 'debate_220', 'ts': 1755766184.35858}\n"
     ]
    }
   ],
   "source": [
    "print(debate_output)"
   ]
  },
  {
   "cell_type": "code",
   "execution_count": 101,
   "id": "08bd26ed",
   "metadata": {
    "scrolled": true
   },
   "outputs": [
    {
     "name": "stdout",
     "output_type": "stream",
     "text": [
      "==================================================\n",
      "              DEBATE REPLAY\n",
      "==================================================\n",
      "Topic: Debate for atleast 20 rounds,Design an end-to-end real-time computer vision pipeline for multi-camera loitering and chain-snatching detection in urban CCTV. Constraints: 1080p@15–25 FPS, ≤300 ms alert latency, ≥90% recall at FPPI ≤0.1/hr/camera, 200 cameras on mixed Jetson Orin/T4 edge nodes, intermittent connectivity. Specify: detection (persons/riders/hand–object), MOT + re-ID, dwell-time estimation, action recognition, geo-fencing, alerting; model choices (e.g., RT-DETR/YOLOv8 vs lightweight MobileNet-SSD), trackers (ByteTrack/OC-SORT), re-ID (FastReID), temporal models; data/labeling plan and hard-negative mining; robustness (night/rain/occlusion/domain shift); privacy (on-device blur/redaction) and bias checks; monitoring/drift/A/B; throughput and GPU/CPU/power budgets; accuracy–latency trade-offs and fallback modes.Propose an evaluation plan and benchmarks (mAP, IDF1, FPPI, E2E latency) plus synthetic stress tests (night/rain/crowds) for the above pipelines; include A/B and rollout strategy.\n",
      "\n",
      "--- Turn 1: Role 'A' ---\n",
      "I propose a multi-stage chain-snatching action recognition system from traffic CCTV footage. The system integrates a detector, tracker, and temporal model to accurately identify and classify chain-snatching incidents. The detector, based on YOLOv4, will identify potential chain-snatching events. The tracker, utilizing DeepSORT, will then track the movement of individuals involved. A temporal model, such as a Graph Convolutional Network (GCN), will analyze the tracked sequences to recognize the chain-snatching action. Our goal is to achieve ≥0.85 F1 score with ≤0.05/hr FPPI. We plan to use a dataset of 10,000 annotated CCTV clips and apply domain adaptation techniques, such as adversarial training.\n",
      "-----------------------\n",
      "--- Turn 2: Role 'B' ---\n",
      "I agree on the multi-stage approach, but propose a more robust system. Instead of YOLOv4, I suggest using CenterNet for the detector due to its superior performance in detecting small objects, which is crucial for chain-snatching incidents where the chain is often small and fast-moving. For the tracker, I recommend using FairMOT, which has shown excellent performance in crowded scenes, a common scenario in traffic CCTV footage. The temporal model should be a 3D CNN, which is better suited for action recognition than GCN. Our dataset should include 15,000 annotated clips to ensure diversity and robustness. Domain adaptation should involve style transfer and adversarial training to handle variations in lighting and camera angles.\n",
      "-----------------------\n",
      "--- Turn 3: Role 'A' ---\n",
      "For real-time multi-camera loitering and chain-snatching detection, I propose a pipeline integrating RT-DETR for detection, ByteTrack for MOT, and a temporal model for action recognition. For re-ID, I suggest using FastReID. To meet constraints, we'll use Jetson Orin for compute-intensive tasks and T4 for others. Our detection model will identify persons, riders, and hand-object interactions. Dwell-time estimation will be based on tracked trajectories. Geo-fencing and alerting will be implemented using a separate module. To ensure robustness, we'll use data augmentation, hard-negative mining, and domain adaptation. For privacy, on-device blur/redaction will be applied. Evaluation will include mAP, IDF1, FPPI, and E2E latency benchmarks, with synthetic stress tests for night, rain, and crowds. A/B testing and monitoring will ensure accuracy and drift detection.\n",
      "-----------------------\n",
      "--- Turn 4: Role 'B' ---\n",
      "I propose a more efficient pipeline using YOLOv8 for detection, OC-SORT for MOT, and a lightweight 3D CNN for action recognition. YOLOv8 offers better speed-accuracy trade-offs than RT-DETR, crucial for real-time processing. OC-SORT is more robust in crowded scenes than ByteTrack. For re-ID, I suggest using a lightweight version of FastReID to reduce computational load. To meet constraints, we'll distribute tasks across Jetson Orin and T4 nodes based on their compute capabilities. Dwell-time estimation will be done using a Kalman filter for smoother trajectories. Geo-fencing and alerting will be integrated into the pipeline for efficiency. For robustness, we'll use a combination of data augmentation, hard-negative mining, and adversarial training. Evaluation will include mAP, IDF1, FPPI, and E2E latency benchmarks, with synthetic stress tests for night, rain, and crowds. A/B testing and monitoring will ensure accuracy and drift detection.\n",
      "-----------------------\n",
      "--- Turn 5: Role 'A' ---\n",
      "I agree on using YOLOv8 and OC-SORT, but argue that a Graph Convolutional Network (GCN) is more suitable for action recognition than a 3D CNN, as it can model complex interactions between objects. For dwell-time estimation, I suggest using a more accurate method, such as a Gaussian process, instead of a Kalman filter. To ensure robustness, I recommend incorporating additional techniques, such as domain adaptation and style transfer, to handle variations in lighting and camera angles. Our evaluation plan should prioritize recall and FPPI metrics, as false negatives and positives have significant consequences in loitering and chain-snatching detection.\n",
      "-----------------------\n",
      "--- Turn 6: Role 'B' ---\n",
      "While GCNs can model complex interactions, 3D CNNs are more efficient for action recognition in real-time systems, as they process temporal and spatial features simultaneously. For dwell-time estimation, Kalman filters are computationally lighter and more suitable for edge devices like Jetson Orin/T4, ensuring lower latency. Domain adaptation and style transfer are valuable, but adversarial training provides better robustness against adversarial attacks and domain shifts. Our evaluation plan should also prioritize E2E latency and IDF1, as they are crucial for real-time performance and tracking accuracy.\n",
      "-----------------------\n",
      "\n",
      "==================================================\n",
      "              FINAL JUDGMENT\n",
      "==================================================\n",
      "Decision: FINAL_JUDGMENT\n",
      "Winner: B\n",
      "Reason: B's pipeline offers a better balance of speed and accuracy, crucial for real-time processing, with efficient models like YOLOv8 and OC-SORT, and robust techniques for action recognition and dwell-time estimation.\n",
      "==================================================\n"
     ]
    }
   ],
   "source": [
    "import json\n",
    "import re\n",
    "\n",
    "# The 'debate_output' variable now holds the Python dictionary from the request.\n",
    "try:\n",
    "    # Check if the request was successful and debate_output is a dictionary\n",
    "    if debate_output and isinstance(debate_output, dict):\n",
    "        # Extract the main data object from the response\n",
    "        data = debate_output.get(\"data\", {})\n",
    "        \n",
    "        # The debate history is in router_meta.recent_turns\n",
    "        recent_turns = data.get(\"router_meta\", {}).get(\"recent_turns\", [])\n",
    "        topic = data.get(\"topic\", \"N/A\")\n",
    "\n",
    "        print(\"=\"*50)\n",
    "        print(\"              DEBATE REPLAY\")\n",
    "        print(\"=\"*50)\n",
    "        print(f\"Topic: {topic}\\n\")\n",
    "\n",
    "        if not recent_turns:\n",
    "            print(\"No turns found in the output. The debate may have ended immediately or an error occurred.\")\n",
    "            print(\"\\nRaw Output:\")\n",
    "            print(json.dumps(debate_output, indent=2))\n",
    "        else:\n",
    "            for i, turn in enumerate(recent_turns):\n",
    "                role = turn.get(\"role\", \"Unknown\")\n",
    "                reply = turn.get(\"reply\", turn.get(\"text\", \"No content\"))\n",
    "                print(f\"--- Turn {i+1}: Role '{role}' ---\")\n",
    "                print(reply)\n",
    "                print(\"-\" * (22 + len(role)))\n",
    "        \n",
    "        # Display the final judgment if available\n",
    "        judge_text = data.get(\"judge_text\", \"\")\n",
    "        if \"FINAL_JUDGMENT\" in judge_text:\n",
    "            # Use regex to extract the relevant parts of the judge's decision\n",
    "            winner_match = re.search(r\"WINNER: (A|B|DRAW)\", judge_text)\n",
    "            reason_match = re.search(r\"REASON: (.*)\", judge_text, re.DOTALL)\n",
    "            \n",
    "            winner = winner_match.group(1) if winner_match else \"Not specified\"\n",
    "            reason = reason_match.group(1).strip() if reason_match else \"Not specified\"\n",
    "\n",
    "            print(\"\\n\" + \"=\"*50)\n",
    "            print(\"              FINAL JUDGMENT\")\n",
    "            print(\"=\"*50)\n",
    "            print(f\"Decision: FINAL_JUDGMENT\")\n",
    "            print(f\"Winner: {winner}\")\n",
    "            print(f\"Reason: {reason}\")\n",
    "            print(\"=\"*50)\n",
    "    else:\n",
    "        print(\"Debate output not available or is in an incorrect format.\")\n",
    "        if debate_output:\n",
    "            print(\"\\nRaw Output Received:\")\n",
    "            print(json.dumps(debate_output, indent=2))\n",
    "\n",
    "except Exception as e:\n",
    "    print(f\"An error occurred while processing the debate output: {e}\")\n",
    "    if debate_output:\n",
    "        print(\"\\nRaw Output Received:\")\n",
    "        print(json.dumps(debate_output, indent=2))"
   ]
  },
  {
   "cell_type": "markdown",
   "id": "8dad1c42",
   "metadata": {},
   "source": [
    "### 9. Observability: Kubernetes Dashboard and Logs\n",
    "\n",
    "- **Kubernetes Dashboard** (if enabled):\n",
    "  - Open: https://CLUSTER1MASTER:32319/\n"
   ]
  },
  {
   "cell_type": "markdown",
   "id": "89ab8d82",
   "metadata": {},
   "source": [
    "### 10. Troubleshooting\n",
    "\n",
    "\n",
    "- **Missing summaries**: Check the `summarize_every_n_messages` and `min_tokens_for_summarization` gates. Short conversations won't trigger summaries.\n",
    "- **Unexpected judge finalization**: The `max_rounds` or `judge_continue_cap` was likely hit. The judge router has a \"force-finalize\" handshake to ensure termination.\n",
    "- **Schema mismatches**: Ensure all components are using the canonical fields. Legacy fields are ignored.\n",
    "- **Duplicate turns in summarizer window**: This can happen if the role or text differs slightly. The current deduplication is role-aware and whitespace-normalized."
   ]
  },
  {
   "cell_type": "markdown",
   "id": "2d437d0f",
   "metadata": {},
   "source": [
    "### 11. Cleanup\n",
    "\n",
    "Always remove controllers and VDAGs that are no longer in use to free up cluster resources."
   ]
  },
  {
   "cell_type": "markdown",
   "id": "0e48f2ac-b71d-46d4-bb05-2e08f53497c5",
   "metadata": {},
   "source": [
    "### a. Remove the controller"
   ]
  },
  {
   "cell_type": "code",
   "execution_count": null,
   "id": "64638643-d961-4cd7-8855-c8a10804edc0",
   "metadata": {},
   "outputs": [
    {
     "name": "stderr",
     "output_type": "stream",
     "text": [
      "  % Total    % Received % Xferd  Average Speed   Time    Time     Time  Current\n",
      "                                 Dload  Upload   Total   Spent    Left  Speed\n",
      "100   177  100    58  100   119    705   1447 --:--:-- --:--:-- --:--:--  2158\n"
     ]
    },
    {
     "name": "stdout",
     "output_type": "stream",
     "text": [
      "{\"data\":\"Controller removed successfully\",\"success\":true}\n"
     ]
    }
   ],
   "source": [
    "%%bash\n",
    "curl -X POST http://MANAGEMENTMASTER:30600/vdag-controller/gcp-cluster-2 \\\n",
    "  -H \"Content-Type: application/json\" \\\n",
    "  -d '{\n",
    "    \"action\": \"remove_controller\",\n",
    "    \"payload\": {\n",
    "      \"vdag_controller_id\": \"llm-circular-vdag-demo-17\"\n",
    "    }\n",
    "  }'"
   ]
  },
  {
   "cell_type": "markdown",
   "id": "e7325e8b-40cb-41c4-b71a-61f3949ab32d",
   "metadata": {},
   "source": [
    "### b. Delete the vDAG definition"
   ]
  },
  {
   "cell_type": "code",
   "execution_count": null,
   "id": "12ad69e1-4d94-4b08-8097-c7ecc4e6ec81",
   "metadata": {},
   "outputs": [
    {
     "name": "stderr",
     "output_type": "stream",
     "text": [
      "  % Total    % Received % Xferd  Average Speed   Time    Time     Time  Current\n",
      "                                 Dload  Upload   Total   Spent    Left  Speed\n",
      "100    51  100    51    0     0   5858      0 --:--:-- --:--:-- --:--:--  6375\n"
     ]
    },
    {
     "name": "stdout",
     "output_type": "stream",
     "text": [
      "{\"data\":{\"message\":\"vDAG deleted\"},\"success\":true}\n"
     ]
    }
   ],
   "source": [
    "%%bash\n",
    "curl -X DELETE http://MANAGEMENTMASTER:30103/vdag/llm-circular-vdag-demo-17:1.0.0-stable"
   ]
  },
  {
   "cell_type": "code",
   "execution_count": null,
   "id": "4a677d68-26b0-4469-92f6-52166f696d2a",
   "metadata": {},
   "outputs": [],
   "source": []
  },
  {
   "cell_type": "markdown",
   "id": "67d1cec9",
   "metadata": {},
   "source": [
    "### 13. Circular vDAG Summary\n",
    "\n",
    "Here is a visual summary of the circular vDAG we have built in this tutorial. This diagram shows how the Debaters and the Judge interact, with the policies routing the conversation between them in a loop until a final judgment is reached.\n",
    "\n",
    "![Circular vDAG Summary](./circular_vdag.png)"
   ]
  },
  {
   "cell_type": "code",
   "execution_count": null,
   "id": "63a19600-b749-4274-bb61-b795606d83c7",
   "metadata": {},
   "outputs": [],
   "source": []
  }
 ],
 "metadata": {
  "kernelspec": {
   "display_name": "Python 3 (ipykernel)",
   "language": "python",
   "name": "python3"
  },
  "language_info": {
   "codemirror_mode": {
    "name": "ipython",
    "version": 3
   },
   "file_extension": ".py",
   "mimetype": "text/x-python",
   "name": "python",
   "nbconvert_exporter": "python",
   "pygments_lexer": "ipython3",
   "version": "3.12.3"
  }
 },
 "nbformat": 4,
 "nbformat_minor": 5
}
