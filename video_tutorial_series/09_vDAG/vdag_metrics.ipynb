{
 "cells": [
  {
   "cell_type": "markdown",
   "id": "57986263",
   "metadata": {},
   "source": [
    "## 🧠 vDAGs Health Check Policy, Metrics\n",
    "\n",
    "- Author: Shridhar Kini (Profile)\n",
    "- To Securely Run: `jupyter notebook password` to generate onetime password for secure access\n",
    "- To Run: `jupyter notebook --allow-root  --port 9999 --ip=0.0.0.0`\n",
    "- To Clear Outputs: Use `jupyter nbconvert --clear-output --inplace vdag-demo.ipynb`\n",
    "\n",
    "This notebook provides an overview of the **Health Check Status** and **vDAGs Metrics** features in the AIOSv1 platform. These features are designed to helps users to monitor and manage their vDAGs effectively.\n",
    "\n",
    "To Know More about vDAG Controller reffer to the [vDAG Controller Documentation](https://aiosdocs.pages.dev/vdag-controller/vdag-controller/).\n",
    "\n",
    "### 🏗️VDAG CONTROLLER ARCHITECTURE\n",
    "![vdag-controller-architecture](https://aiosdocs.pages.dev/assets/vDAG-Controller.png)\n",
    "\n",
    "#### 1. **🩺 Health Status**: \n",
    "This feature provides a real-time overview of the health of vDAGs, including the status of each blocks of the vdag and their instances.\n",
    "\n",
    "Health checker policy operates on the health check data of all the blocks that are part of the vDAG which is collected periodically.\n",
    "\n",
    "This policy will be called periodically, based on the interval specified in the vDAG config.\n",
    "\n",
    "#### 🐍 Sample Policy for Health Checker:"
   ]
  },
  {
   "cell_type": "code",
   "execution_count": null,
   "id": "fff9cf40",
   "metadata": {},
   "outputs": [],
   "source": [
    "import logging\n",
    "\n",
    "class AIOSv1PolicyRule:\n",
    "    def __init__(self, rule_id, settings, parameters):\n",
    "        self.rule_id = rule_id\n",
    "        self.settings = settings\n",
    "        self.parameters = parameters\n",
    "\n",
    "        # This is NOT a timestamp, it's seconds since last metric\n",
    "        self.allowed_metrics_age = parameters.get(\"allowed_metrics_age\", 30)\n",
    "        self.forced_health_status = {}  # {block_id: True/False}\n",
    "        self.last_healthy = False\n",
    "\n",
    "        logging.warning(f\"[INIT] HealthCheckerPolicy initialized with allowed_metrics_age={self.allowed_metrics_age}\")\n",
    "\n",
    "    def eval(self, parameters, input_data, context):\n",
    "        logging.warning(\"[EVAL] eval() called with input_data keys: %s\", list(input_data.keys()))\n",
    "\n",
    "        # if input_data['mode'] != \"default\": #fast_check\n",
    "        #     return {\"overall_healthy\": self.last_healthy}\n",
    "\n",
    "        health_data = input_data.get(\"health_check_data\", {})\n",
    "        if not health_data:\n",
    "            logging.warning(\"[EVAL] No health_check_data found in input.\")\n",
    "            return {\n",
    "                \"blocks\": {},\n",
    "                \"overall_healthy\": False\n",
    "            }\n",
    "\n",
    "        result = {\"blocks\": {}, \"overall_healthy\": True}\n",
    "\n",
    "        for block_id, data in health_data.items():\n",
    "            logging.warning(\"[EVAL] Processing block_id: %s\", block_id)\n",
    "\n",
    "            if block_id in self.forced_health_status:\n",
    "                is_healthy = self.forced_health_status[block_id]\n",
    "                reason = \"forced_override\"\n",
    "                logging.warning(\"[EVAL] Forced status for %s: %s\", block_id, is_healthy)\n",
    "            else:\n",
    "                instances = data.get(\"instances\", [])\n",
    "                healthy_instances = []\n",
    "\n",
    "                for inst in instances:\n",
    "                    if inst.get(\"healthy\") is not True:\n",
    "                        continue\n",
    "\n",
    "                    last_metrics_age = inst.get(\"lastMetrics\")\n",
    "                    if last_metrics_age is None:\n",
    "                        logging.warning(\"[EVAL] Skipping instance without lastMetrics: %s\", inst.get(\"instanceId\"))\n",
    "                        continue\n",
    "\n",
    "                    if last_metrics_age <= self.allowed_metrics_age:\n",
    "                        healthy_instances.append(inst)\n",
    "                    else:\n",
    "                        logging.warning(\n",
    "                            \"[EVAL] instance %s too old: lastMetrics=%s > allowed=%s\",\n",
    "                            inst.get(\"instanceId\"), last_metrics_age, self.allowed_metrics_age\n",
    "                        )\n",
    "\n",
    "                is_healthy = len(healthy_instances) > 0\n",
    "                reason = f\"{len(healthy_instances)} healthy (age ≤ {self.allowed_metrics_age}s)\"\n",
    "\n",
    "            result[\"blocks\"][block_id] = {\n",
    "                \"healthy\": is_healthy,\n",
    "                \"reason\": reason\n",
    "            }\n",
    "\n",
    "            if not is_healthy:\n",
    "                result[\"overall_healthy\"] = False\n",
    "                self.last_healthy = False\n",
    "            else:\n",
    "                self.last_healthy = True\n",
    "\n",
    "        logging.warning(\"[EVAL] Final health check result: %s\", result)\n",
    "        return result\n",
    "\n",
    "    def management(self, action: str, data: dict) -> dict:\n",
    "        logging.warning(f\"[MGMT] management() called with action={action}, data={data}\")\n",
    "        try:\n",
    "            action = action.lower()\n",
    "\n",
    "            if action == \"get_forced_status\":\n",
    "                return {\"status\": \"ok\", \"value\": self.forced_health_status}\n",
    "\n",
    "            elif action == \"force_healthy\":\n",
    "                block_id = data[\"block_id\"]\n",
    "                self.forced_health_status[block_id] = True\n",
    "                return {\"status\": \"ok\", \"message\": f\"Block {block_id} forced to healthy\"}\n",
    "\n",
    "            elif action == \"force_unhealthy\":\n",
    "                block_id = data[\"block_id\"]\n",
    "                self.forced_health_status[block_id] = False\n",
    "                return {\"status\": \"ok\", \"message\": f\"Block {block_id} forced to unhealthy\"}\n",
    "\n",
    "            elif action == \"clear_forced\":\n",
    "                block_id = data[\"block_id\"]\n",
    "                self.forced_health_status.pop(block_id, None)\n",
    "                return {\"status\": \"ok\", \"message\": f\"Forced status cleared for {block_id}\"}\n",
    "\n",
    "            elif action == \"clear_all_forced\":\n",
    "                self.forced_health_status.clear()\n",
    "                return {\"status\": \"ok\", \"message\": \"All forced statuses cleared\"}\n",
    "\n",
    "            elif action == \"set_allowed_metrics_age\":\n",
    "                self.allowed_metrics_age = int(data[\"value\"])\n",
    "                return {\"status\": \"ok\", \"message\": f\"allowed_metrics_age set to {self.allowed_metrics_age}\"}\n",
    "\n",
    "            else:\n",
    "                return {\"status\": \"error\", \"message\": f\"Unknown action '{action}'\"}\n",
    "\n",
    "        except Exception as e:\n",
    "            logging.error(f\"[MGMT] Error handling management action: {e}\")\n",
    "            return {\"status\": \"error\", \"message\": str(e)}\n"
   ]
  },
  {
   "cell_type": "markdown",
   "id": "bbad447e",
   "metadata": {},
   "source": [
    "##### 📝 Registration Process:\n",
    "1. **zip the code**: `zip -r health_checker_2.zip code`\n",
    "2. **upload the zip file**: `bash upload.sh`\n",
    "3. **register the policy**: `bash register_policy.sh`."
   ]
  },
  {
   "cell_type": "markdown",
   "id": "3a865833",
   "metadata": {},
   "source": [
    "##### 🚀 Create vDAG Controller with Health Checker Policy:"
   ]
  },
  {
   "cell_type": "code",
   "execution_count": null,
   "id": "dc9cf84f",
   "metadata": {
    "vscode": {
     "languageId": "shellscript"
    }
   },
   "outputs": [],
   "source": [
    "%%bash\n",
    "curl -X POST http://MANAGEMENTMASTER:30600/vdag-controller/gcp-cluster-2 \\\n",
    "  -H \"Content-Type: application/json\" \\\n",
    "  -d '{\n",
    "    \"action\": \"create_controller\",\n",
    "    \"payload\": {\n",
    "      \"vdag_controller_id\": \"policies-test-c\", \n",
    "      \"vdag_uri\": \"llm-analyzer:0.0.3-stable\",\n",
    "      \"config\": {\n",
    "        \"policy_execution_mode\": \"local\",\n",
    "        \"replicas\": 1,\n",
    "        \"custom_data\": {\n",
    "            \"quotaChecker\": {\n",
    "                \"quotaCheckerPolicyRule\": {\n",
    "                    \"policyRuleURI\": \"quota-checker:2.0-stable\",\n",
    "                    \"parameters\": {\n",
    "                        \"default_limit\": 1,\n",
    "                        \"whitelist\": [\"session10\"]\n",
    "                    }\n",
    "                }\n",
    "            },\n",
    "            \"qualityChecker\": {\n",
    "              \"qualityCheckerPolicyRule\": {\n",
    "                \"policyRuleURI\": \"quality-checker:2.0-stable\",\n",
    "                \"parameters\": {\n",
    "                  \"db_url\": \"redis://POLICYSTORESERVER:6379/0\"\n",
    "                }\n",
    "              },\n",
    "              \"framesInterval\": 1\n",
    "            },\n",
    "            \"healthChecker\": {\n",
    "              \"healthCheckerPolicyRule\": {\n",
    "                \"policyRuleURI\": \"health-checker:3.0-stable\",\n",
    "                \"parameters\": {\n",
    "                  \"allowed_metrics_age\": 60\n",
    "                }\n",
    "              },\n",
    "              \"interval\": 60\n",
    "            }\n",
    "        }\n",
    "      },\n",
    "      \"search_tags\": []\n",
    "    }\n",
    "  }'"
   ]
  },
  {
   "cell_type": "markdown",
   "id": "005061d3",
   "metadata": {},
   "source": [
    "##### 🔍 Query the vDAG Controller Details\n",
    "\n",
    "Once the controller is created, we can verify its status and configuration using a GET request.\n"
   ]
  },
  {
   "cell_type": "code",
   "execution_count": null,
   "id": "fa6b89c5",
   "metadata": {
    "vscode": {
     "languageId": "shellscript"
    }
   },
   "outputs": [],
   "source": [
    "%%bash\n",
    "curl -X GET http://MANAGEMENTMASTER:30103/vdag-controller/policies-test-c | json_pp"
   ]
  },
  {
   "cell_type": "markdown",
   "id": "b0817f9a",
   "metadata": {},
   "source": [
    "##### 🏥 Query the health of the vDAG\n",
    "\n",
    "Query the health of all the Blocks (with their instances) in the vDAG using the REST API."
   ]
  },
  {
   "cell_type": "code",
   "execution_count": null,
   "id": "5e2f1613",
   "metadata": {
    "vscode": {
     "languageId": "shellscript"
    }
   },
   "outputs": [],
   "source": [
    "%%bash\n",
    "curl http://CLUSTER1MASTER:30828/health/check | json_pp"
   ]
  },
  {
   "cell_type": "markdown",
   "id": "13c37438",
   "metadata": {},
   "source": [
    "##### 🏥 Use Management command for Health Policy\n",
    "\n",
    "Update/Query using any management function for the health policy."
   ]
  },
  {
   "cell_type": "code",
   "execution_count": null,
   "id": "c36372ab",
   "metadata": {
    "vscode": {
     "languageId": "shellscript"
    }
   },
   "outputs": [],
   "source": [
    "%%bash\n",
    "curl -X POST http://CLUSTER1MASTER:30828/health/mgmt  -H \"Content-Type: application/json\" \\\n",
    "    -d '{\"mgmt_action\": \"set_allowed_metrics_age\", \"mgmt_data\": {\"value\": 5}}'"
   ]
  },
  {
   "cell_type": "markdown",
   "id": "5a4b7b50",
   "metadata": {},
   "source": [
    "##### 🧹 Step 4: Clean-up\n",
    "\n",
    "The controller can be removed using the following command"
   ]
  },
  {
   "cell_type": "code",
   "execution_count": null,
   "id": "ffd2067a",
   "metadata": {
    "vscode": {
     "languageId": "shellscript"
    }
   },
   "outputs": [],
   "source": [
    "%%bash\n",
    "curl -X POST http://MANAGEMENTMASTER:30600/vdag-controller/gcp-cluster-2 \\\n",
    "  -H \"Content-Type: application/json\" \\\n",
    "  -d '{\n",
    "    \"action\": \"remove_controller\",\n",
    "    \"payload\": {\n",
    "      \"vdag_controller_id\": \"policies-test-c\"\n",
    "    }\n",
    "  }'"
   ]
  },
  {
   "cell_type": "markdown",
   "id": "993996bc",
   "metadata": {},
   "source": [
    "The vDAG entry if not needed anymore can be removed using the following command:"
   ]
  },
  {
   "cell_type": "code",
   "execution_count": null,
   "id": "a58e93bc",
   "metadata": {
    "vscode": {
     "languageId": "shellscript"
    }
   },
   "outputs": [],
   "source": [
    "%%bash\n",
    "curl -X DELETE http://MANAGEMENTMASTER:30103/vdag/llm-analyzer:0.0.3-stable\n"
   ]
  },
  {
   "cell_type": "markdown",
   "id": "20df5f2d",
   "metadata": {},
   "source": [
    "#### 2. **📈 Metrics of vDAG**: \n",
    "Following metrics are exported by vDAG controller:\n",
    "- `inference_requests_total`: Total number of inference requests processed\n",
    "- `inference_fps`: Frames per second (FPS) of inference processing\n",
    "- `inference_latency_seconds`: Latency per inference request in seconds\n",
    "\n",
    "These metrics can be queried from Global vDAG metrics DB:\n",
    "\n",
    "Global vDAG metrics database stores vDAG metrics from all the vDAG controllers running across the clusters in the network. These metrics are reported by the vDAG controllers at fixed intervals. Global vDAG Metrics database also provides the query APIs which can be used by the systems and users for monitoring and decision making.\n",
    "\n",
    "##### Global vDAG Metrics DB APIs"
   ]
  },
  {
   "cell_type": "code",
   "execution_count": null,
   "id": "4dba83f9",
   "metadata": {
    "vscode": {
     "languageId": "shellscript"
    }
   },
   "outputs": [],
   "source": [
    "%%bash\n",
    "curl -X GET http://MANAGEMENTMASTER:30203/vdag/policies-test-c2 | json_pp"
   ]
  },
  {
   "cell_type": "markdown",
   "id": "425c90d0",
   "metadata": {},
   "source": [
    "##### MongoDB-style vDAG Metrics DB APIs"
   ]
  },
  {
   "cell_type": "code",
   "execution_count": null,
   "id": "dbdb7861",
   "metadata": {
    "vscode": {
     "languageId": "shellscript"
    }
   },
   "outputs": [],
   "source": [
    "%%bash\n",
    "curl -X POST http://MANAGEMENTMASTER:30203/vdag/query \\\n",
    "  -H \"Content-Type: application/json\" \\\n",
    "  -d '{\n",
    "    \"vdagURI\": \"llm-analyzer:0.0.3-stable\"\n",
    "  }' | json_pp\n"
   ]
  },
  {
   "cell_type": "code",
   "execution_count": null,
   "id": "2e78821d",
   "metadata": {
    "vscode": {
     "languageId": "shellscript"
    }
   },
   "outputs": [],
   "source": [
    "%%bash\n",
    "curl -X POST http://MANAGEMENTMASTER:30203/vdag/query \\\n",
    "  -H \"Content-Type: application/json\" \\\n",
    "  -d '{\n",
    "    \"inference_requests_total\": { \"$gt\": 5 }\n",
    "  }' | json_pp"
   ]
  },
  {
   "cell_type": "code",
   "execution_count": null,
   "id": "2531d4d0-e2de-42bc-b248-c39dfbfabf22",
   "metadata": {},
   "outputs": [],
   "source": []
  }
 ],
 "metadata": {
  "kernelspec": {
   "display_name": "Python 3 (ipykernel)",
   "language": "python",
   "name": "python3"
  },
  "language_info": {
   "codemirror_mode": {
    "name": "ipython",
    "version": 3
   },
   "file_extension": ".py",
   "mimetype": "text/x-python",
   "name": "python",
   "nbconvert_exporter": "python",
   "pygments_lexer": "ipython3",
   "version": "3.10.12"
  }
 },
 "nbformat": 4,
 "nbformat_minor": 5
}
